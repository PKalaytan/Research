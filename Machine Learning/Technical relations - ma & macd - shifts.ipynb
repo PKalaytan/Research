{
 "cells": [
  {
   "cell_type": "code",
   "execution_count": 1,
   "metadata": {
    "collapsed": false
   },
   "outputs": [],
   "source": [
    "import pandas as pd\n",
    "import numpy as np\n",
    "import matplotlib.pyplot as plt\n",
    "from matplotlib.finance import candlestick, candlestick2 \n",
    "import matplotlib.dates as mdates\n",
    "import ml_metrics, string, re, pylab as pl\n",
    "\n",
    "from sklearn import feature_extraction\n",
    "from sklearn.decomposition import PCA\n",
    "from sklearn.metrics import roc_curve\n",
    "from sklearn.ensemble import RandomForestClassifier, GradientBoostingClassifier\n",
    "from sklearn.cross_validation import train_test_split\n",
    "from sklearn.naive_bayes import GaussianNB\n",
    "from sklearn.neighbors import KNeighborsClassifier\n",
    "from sklearn.decomposition import PCA\n",
    "\n",
    "%matplotlib inline"
   ]
  },
  {
   "cell_type": "code",
   "execution_count": 130,
   "metadata": {
    "collapsed": false
   },
   "outputs": [
    {
     "data": {
      "text/plain": [
       "172"
      ]
     },
     "execution_count": 130,
     "metadata": {},
     "output_type": "execute_result"
    }
   ],
   "source": [
    "#saving vars\n",
    "dataFolder = '../data/'\n",
    "fileName = 'EURUSD-ticks.csv'\n",
    "maSettings = (8, 25,50,120)\n",
    "macdSettings = ([26,12],[55,25])\n",
    "compareShift = (1,5,10,50)\n",
    "#compareCandles = (1,2,3,4,5,10,15,25,50,100)\n",
    "timeFrame = ('10Min')\n",
    "maxNumber = max(maSettings)+ max(compareShift)+2\n",
    "maxNumber"
   ]
  },
  {
   "cell_type": "code",
   "execution_count": 131,
   "metadata": {
    "collapsed": false
   },
   "outputs": [
    {
     "data": {
      "text/html": [
       "<div>\n",
       "<table border=\"1\" class=\"dataframe\">\n",
       "  <thead>\n",
       "    <tr style=\"text-align: right;\">\n",
       "      <th></th>\n",
       "      <th>ask</th>\n",
       "      <th>bid</th>\n",
       "      <th>spread</th>\n",
       "    </tr>\n",
       "    <tr>\n",
       "      <th>date</th>\n",
       "      <th></th>\n",
       "      <th></th>\n",
       "      <th></th>\n",
       "    </tr>\n",
       "  </thead>\n",
       "  <tbody>\n",
       "    <tr>\n",
       "      <th>2013-04-26 15:11:09.298</th>\n",
       "      <td>1.30252</td>\n",
       "      <td>1.30247</td>\n",
       "      <td>0.00005</td>\n",
       "    </tr>\n",
       "    <tr>\n",
       "      <th>2013-04-26 15:11:09.298</th>\n",
       "      <td>1.30252</td>\n",
       "      <td>1.30247</td>\n",
       "      <td>0.00005</td>\n",
       "    </tr>\n",
       "  </tbody>\n",
       "</table>\n",
       "</div>"
      ],
      "text/plain": [
       "                             ask      bid   spread\n",
       "date                                              \n",
       "2013-04-26 15:11:09.298  1.30252  1.30247  0.00005\n",
       "2013-04-26 15:11:09.298  1.30252  1.30247  0.00005"
      ]
     },
     "execution_count": 131,
     "metadata": {},
     "output_type": "execute_result"
    }
   ],
   "source": [
    "# load data from csv. nrows=1000 (limits rows to be loaded)\n",
    "data = pd.read_csv(dataFolder+fileName, nrows = 100000000000, parse_dates=True, index_col=0)\n",
    "data.head(2)"
   ]
  },
  {
   "cell_type": "code",
   "execution_count": 132,
   "metadata": {
    "collapsed": false
   },
   "outputs": [
    {
     "data": {
      "text/html": [
       "<div>\n",
       "<table border=\"1\" class=\"dataframe\">\n",
       "  <thead>\n",
       "    <tr style=\"text-align: right;\">\n",
       "      <th></th>\n",
       "      <th>ask</th>\n",
       "      <th>bid</th>\n",
       "      <th>spread</th>\n",
       "    </tr>\n",
       "    <tr>\n",
       "      <th>date</th>\n",
       "      <th></th>\n",
       "      <th></th>\n",
       "      <th></th>\n",
       "    </tr>\n",
       "  </thead>\n",
       "  <tbody>\n",
       "    <tr>\n",
       "      <th>2015-09-29 23:59:49.794</th>\n",
       "      <td>1.12534</td>\n",
       "      <td>1.12532</td>\n",
       "      <td>0.00002</td>\n",
       "    </tr>\n",
       "    <tr>\n",
       "      <th>2015-09-29 23:59:53.413</th>\n",
       "      <td>1.12534</td>\n",
       "      <td>1.12533</td>\n",
       "      <td>0.00001</td>\n",
       "    </tr>\n",
       "  </tbody>\n",
       "</table>\n",
       "</div>"
      ],
      "text/plain": [
       "                             ask      bid   spread\n",
       "date                                              \n",
       "2015-09-29 23:59:49.794  1.12534  1.12532  0.00002\n",
       "2015-09-29 23:59:53.413  1.12534  1.12533  0.00001"
      ]
     },
     "execution_count": 132,
     "metadata": {},
     "output_type": "execute_result"
    }
   ],
   "source": [
    "data.tail(2)"
   ]
  },
  {
   "cell_type": "code",
   "execution_count": 133,
   "metadata": {
    "collapsed": false
   },
   "outputs": [
    {
     "data": {
      "text/html": [
       "<div>\n",
       "<table border=\"1\" class=\"dataframe\">\n",
       "  <thead>\n",
       "    <tr style=\"text-align: right;\">\n",
       "      <th></th>\n",
       "      <th>bid</th>\n",
       "    </tr>\n",
       "    <tr>\n",
       "      <th>date</th>\n",
       "      <th></th>\n",
       "    </tr>\n",
       "  </thead>\n",
       "  <tbody>\n",
       "    <tr>\n",
       "      <th>2013-04-26 15:11:09.298</th>\n",
       "      <td>1.30247</td>\n",
       "    </tr>\n",
       "    <tr>\n",
       "      <th>2013-04-26 15:11:09.298</th>\n",
       "      <td>1.30247</td>\n",
       "    </tr>\n",
       "  </tbody>\n",
       "</table>\n",
       "</div>"
      ],
      "text/plain": [
       "                             bid\n",
       "date                            \n",
       "2013-04-26 15:11:09.298  1.30247\n",
       "2013-04-26 15:11:09.298  1.30247"
      ]
     },
     "execution_count": 133,
     "metadata": {},
     "output_type": "execute_result"
    }
   ],
   "source": [
    "#drop useless columns\n",
    "data.drop(['ask', 'spread'], axis=1, inplace = True)\n",
    "data.head(2)"
   ]
  },
  {
   "cell_type": "code",
   "execution_count": 134,
   "metadata": {
    "collapsed": false
   },
   "outputs": [
    {
     "data": {
      "text/html": [
       "<div>\n",
       "<table border=\"1\" class=\"dataframe\">\n",
       "  <thead>\n",
       "    <tr style=\"text-align: right;\">\n",
       "      <th></th>\n",
       "      <th>open</th>\n",
       "      <th>high</th>\n",
       "      <th>low</th>\n",
       "      <th>close</th>\n",
       "    </tr>\n",
       "    <tr>\n",
       "      <th>date</th>\n",
       "      <th></th>\n",
       "      <th></th>\n",
       "      <th></th>\n",
       "      <th></th>\n",
       "    </tr>\n",
       "  </thead>\n",
       "  <tbody>\n",
       "    <tr>\n",
       "      <th>2013-04-26 15:10:00</th>\n",
       "      <td>1.30247</td>\n",
       "      <td>1.30354</td>\n",
       "      <td>1.30247</td>\n",
       "      <td>1.30269</td>\n",
       "    </tr>\n",
       "    <tr>\n",
       "      <th>2013-04-26 15:20:00</th>\n",
       "      <td>1.30270</td>\n",
       "      <td>1.30275</td>\n",
       "      <td>1.30224</td>\n",
       "      <td>1.30260</td>\n",
       "    </tr>\n",
       "    <tr>\n",
       "      <th>2013-04-26 15:30:00</th>\n",
       "      <td>1.30262</td>\n",
       "      <td>1.30268</td>\n",
       "      <td>1.30210</td>\n",
       "      <td>1.30215</td>\n",
       "    </tr>\n",
       "  </tbody>\n",
       "</table>\n",
       "</div>"
      ],
      "text/plain": [
       "                        open     high      low    close\n",
       "date                                                   \n",
       "2013-04-26 15:10:00  1.30247  1.30354  1.30247  1.30269\n",
       "2013-04-26 15:20:00  1.30270  1.30275  1.30224  1.30260\n",
       "2013-04-26 15:30:00  1.30262  1.30268  1.30210  1.30215"
      ]
     },
     "execution_count": 134,
     "metadata": {},
     "output_type": "execute_result"
    }
   ],
   "source": [
    "# resample to OHLC\n",
    "m5 = data['bid'].resample(timeFrame, how='ohlc').dropna()\n",
    "m5.head(3)"
   ]
  },
  {
   "cell_type": "code",
   "execution_count": 135,
   "metadata": {
    "collapsed": false
   },
   "outputs": [
    {
     "data": {
      "text/plain": [
       "<matplotlib.axes._subplots.AxesSubplot at 0x6d8d7c50>"
      ]
     },
     "execution_count": 135,
     "metadata": {},
     "output_type": "execute_result"
    },
    {
     "data": {
      "image/png": "[encoded data removed]",
      "text/plain": [
       "<matplotlib.figure.Figure at 0x3920a278>"
      ]
     },
     "metadata": {},
     "output_type": "display_data"
    }
   ],
   "source": [
    "m5.plot(figsize=(16,6))"
   ]
  },
  {
   "cell_type": "markdown",
   "metadata": {},
   "source": []
  },
  {
   "cell_type": "code",
   "execution_count": 136,
   "metadata": {
    "collapsed": false
   },
   "outputs": [
    {
     "data": {
      "text/html": [
       "<div>\n",
       "<table border=\"1\" class=\"dataframe\">\n",
       "  <thead>\n",
       "    <tr style=\"text-align: right;\">\n",
       "      <th></th>\n",
       "      <th>date</th>\n",
       "      <th>open</th>\n",
       "      <th>high</th>\n",
       "      <th>low</th>\n",
       "      <th>close</th>\n",
       "    </tr>\n",
       "    <tr>\n",
       "      <th>id</th>\n",
       "      <th></th>\n",
       "      <th></th>\n",
       "      <th></th>\n",
       "      <th></th>\n",
       "      <th></th>\n",
       "    </tr>\n",
       "  </thead>\n",
       "  <tbody>\n",
       "    <tr>\n",
       "      <th>0</th>\n",
       "      <td>2013-04-26 15:10:00</td>\n",
       "      <td>1.30247</td>\n",
       "      <td>1.30354</td>\n",
       "      <td>1.30247</td>\n",
       "      <td>1.30269</td>\n",
       "    </tr>\n",
       "    <tr>\n",
       "      <th>1</th>\n",
       "      <td>2013-04-26 15:20:00</td>\n",
       "      <td>1.30270</td>\n",
       "      <td>1.30275</td>\n",
       "      <td>1.30224</td>\n",
       "      <td>1.30260</td>\n",
       "    </tr>\n",
       "  </tbody>\n",
       "</table>\n",
       "</div>"
      ],
      "text/plain": [
       "                  date     open     high      low    close\n",
       "id                                                        \n",
       "0  2013-04-26 15:10:00  1.30247  1.30354  1.30247  1.30269\n",
       "1  2013-04-26 15:20:00  1.30270  1.30275  1.30224  1.30260"
      ]
     },
     "execution_count": 136,
     "metadata": {},
     "output_type": "execute_result"
    }
   ],
   "source": [
    "#reindexing to id's\n",
    "m5.insert(0,'date', m5.index)\n",
    "m5['id'] = list(range(len(m5.index)))\n",
    "m5.set_index('id', drop=False, inplace = True)\n",
    "m5.drop('id', axis = 1, inplace = 1)\n",
    "m5.head(2)"
   ]
  },
  {
   "cell_type": "code",
   "execution_count": 137,
   "metadata": {
    "collapsed": false
   },
   "outputs": [
    {
     "data": {
      "text/html": [
       "<div>\n",
       "<table border=\"1\" class=\"dataframe\">\n",
       "  <thead>\n",
       "    <tr style=\"text-align: right;\">\n",
       "      <th></th>\n",
       "      <th>date</th>\n",
       "      <th>open</th>\n",
       "      <th>high</th>\n",
       "      <th>low</th>\n",
       "      <th>close</th>\n",
       "      <th>move</th>\n",
       "      <th>label</th>\n",
       "    </tr>\n",
       "    <tr>\n",
       "      <th>id</th>\n",
       "      <th></th>\n",
       "      <th></th>\n",
       "      <th></th>\n",
       "      <th></th>\n",
       "      <th></th>\n",
       "      <th></th>\n",
       "      <th></th>\n",
       "    </tr>\n",
       "  </thead>\n",
       "  <tbody>\n",
       "    <tr>\n",
       "      <th>0</th>\n",
       "      <td>2013-04-26 15:10:00</td>\n",
       "      <td>1.30247</td>\n",
       "      <td>1.30354</td>\n",
       "      <td>1.30247</td>\n",
       "      <td>1.30269</td>\n",
       "      <td>0.00022</td>\n",
       "      <td>1</td>\n",
       "    </tr>\n",
       "    <tr>\n",
       "      <th>1</th>\n",
       "      <td>2013-04-26 15:20:00</td>\n",
       "      <td>1.30270</td>\n",
       "      <td>1.30275</td>\n",
       "      <td>1.30224</td>\n",
       "      <td>1.30260</td>\n",
       "      <td>-0.00010</td>\n",
       "      <td>0</td>\n",
       "    </tr>\n",
       "  </tbody>\n",
       "</table>\n",
       "</div>"
      ],
      "text/plain": [
       "                  date     open     high      low    close     move  label\n",
       "id                                                                        \n",
       "0  2013-04-26 15:10:00  1.30247  1.30354  1.30247  1.30269  0.00022      1\n",
       "1  2013-04-26 15:20:00  1.30270  1.30275  1.30224  1.30260 -0.00010      0"
      ]
     },
     "execution_count": 137,
     "metadata": {},
     "output_type": "execute_result"
    }
   ],
   "source": [
    "# add current candle move\n",
    "m5['move'] = m5['close']-m5['open']\n",
    "# add label. 0 = red, 1 = green candle\n",
    "m5['label'] =  (m5['close'] - m5['open']).apply(lambda l: 0 if l < 0 else 1)\n",
    "m5.head(2)"
   ]
  },
  {
   "cell_type": "code",
   "execution_count": 138,
   "metadata": {
    "collapsed": false
   },
   "outputs": [],
   "source": [
    "# function that computes EMA\n",
    "def ExpMovingAverage(values, window):\n",
    "    weights = np.exp(np.linspace(-1,0,window))\n",
    "    weights /= weights.sum()\n",
    "    a = np.convolve(values, weights, mode='full')[:len(values)]\n",
    "    a[:window] = a[window]\n",
    "    return a"
   ]
  },
  {
   "cell_type": "code",
   "execution_count": 139,
   "metadata": {
    "collapsed": false
   },
   "outputs": [
    {
     "data": {
      "text/html": [
       "<div>\n",
       "<table border=\"1\" class=\"dataframe\">\n",
       "  <thead>\n",
       "    <tr style=\"text-align: right;\">\n",
       "      <th></th>\n",
       "      <th>date</th>\n",
       "      <th>open</th>\n",
       "      <th>high</th>\n",
       "      <th>low</th>\n",
       "      <th>close</th>\n",
       "      <th>move</th>\n",
       "      <th>label</th>\n",
       "      <th>ema8Shift_1</th>\n",
       "      <th>ema8Shift_5</th>\n",
       "      <th>ema8Shift_10</th>\n",
       "      <th>...</th>\n",
       "      <th>ema25Shift_10</th>\n",
       "      <th>ema25Shift_50</th>\n",
       "      <th>ema50Shift_1</th>\n",
       "      <th>ema50Shift_5</th>\n",
       "      <th>ema50Shift_10</th>\n",
       "      <th>ema50Shift_50</th>\n",
       "      <th>ema120Shift_1</th>\n",
       "      <th>ema120Shift_5</th>\n",
       "      <th>ema120Shift_10</th>\n",
       "      <th>ema120Shift_50</th>\n",
       "    </tr>\n",
       "    <tr>\n",
       "      <th>id</th>\n",
       "      <th></th>\n",
       "      <th></th>\n",
       "      <th></th>\n",
       "      <th></th>\n",
       "      <th></th>\n",
       "      <th></th>\n",
       "      <th></th>\n",
       "      <th></th>\n",
       "      <th></th>\n",
       "      <th></th>\n",
       "      <th></th>\n",
       "      <th></th>\n",
       "      <th></th>\n",
       "      <th></th>\n",
       "      <th></th>\n",
       "      <th></th>\n",
       "      <th></th>\n",
       "      <th></th>\n",
       "      <th></th>\n",
       "      <th></th>\n",
       "      <th></th>\n",
       "    </tr>\n",
       "  </thead>\n",
       "  <tbody>\n",
       "    <tr>\n",
       "      <th>0</th>\n",
       "      <td>2013-04-26 15:10:00</td>\n",
       "      <td>1.30247</td>\n",
       "      <td>1.30354</td>\n",
       "      <td>1.30247</td>\n",
       "      <td>1.30269</td>\n",
       "      <td>0.00022</td>\n",
       "      <td>1</td>\n",
       "      <td>NaN</td>\n",
       "      <td>NaN</td>\n",
       "      <td>NaN</td>\n",
       "      <td>...</td>\n",
       "      <td>NaN</td>\n",
       "      <td>NaN</td>\n",
       "      <td>NaN</td>\n",
       "      <td>NaN</td>\n",
       "      <td>NaN</td>\n",
       "      <td>NaN</td>\n",
       "      <td>NaN</td>\n",
       "      <td>NaN</td>\n",
       "      <td>NaN</td>\n",
       "      <td>NaN</td>\n",
       "    </tr>\n",
       "    <tr>\n",
       "      <th>1</th>\n",
       "      <td>2013-04-26 15:20:00</td>\n",
       "      <td>1.30270</td>\n",
       "      <td>1.30275</td>\n",
       "      <td>1.30224</td>\n",
       "      <td>1.30260</td>\n",
       "      <td>-0.00010</td>\n",
       "      <td>0</td>\n",
       "      <td>0</td>\n",
       "      <td>NaN</td>\n",
       "      <td>NaN</td>\n",
       "      <td>...</td>\n",
       "      <td>NaN</td>\n",
       "      <td>NaN</td>\n",
       "      <td>0</td>\n",
       "      <td>NaN</td>\n",
       "      <td>NaN</td>\n",
       "      <td>NaN</td>\n",
       "      <td>0</td>\n",
       "      <td>NaN</td>\n",
       "      <td>NaN</td>\n",
       "      <td>NaN</td>\n",
       "    </tr>\n",
       "    <tr>\n",
       "      <th>2</th>\n",
       "      <td>2013-04-26 15:30:00</td>\n",
       "      <td>1.30262</td>\n",
       "      <td>1.30268</td>\n",
       "      <td>1.30210</td>\n",
       "      <td>1.30215</td>\n",
       "      <td>-0.00047</td>\n",
       "      <td>0</td>\n",
       "      <td>0</td>\n",
       "      <td>NaN</td>\n",
       "      <td>NaN</td>\n",
       "      <td>...</td>\n",
       "      <td>NaN</td>\n",
       "      <td>NaN</td>\n",
       "      <td>0</td>\n",
       "      <td>NaN</td>\n",
       "      <td>NaN</td>\n",
       "      <td>NaN</td>\n",
       "      <td>0</td>\n",
       "      <td>NaN</td>\n",
       "      <td>NaN</td>\n",
       "      <td>NaN</td>\n",
       "    </tr>\n",
       "  </tbody>\n",
       "</table>\n",
       "<p>3 rows × 23 columns</p>\n",
       "</div>"
      ],
      "text/plain": [
       "                  date     open     high      low    close     move  label  \\\n",
       "id                                                                           \n",
       "0  2013-04-26 15:10:00  1.30247  1.30354  1.30247  1.30269  0.00022      1   \n",
       "1  2013-04-26 15:20:00  1.30270  1.30275  1.30224  1.30260 -0.00010      0   \n",
       "2  2013-04-26 15:30:00  1.30262  1.30268  1.30210  1.30215 -0.00047      0   \n",
       "\n",
       "    ema8Shift_1  ema8Shift_5  ema8Shift_10       ...        ema25Shift_10  \\\n",
       "id                                               ...                        \n",
       "0           NaN          NaN           NaN       ...                  NaN   \n",
       "1             0          NaN           NaN       ...                  NaN   \n",
       "2             0          NaN           NaN       ...                  NaN   \n",
       "\n",
       "    ema25Shift_50  ema50Shift_1  ema50Shift_5  ema50Shift_10  ema50Shift_50  \\\n",
       "id                                                                            \n",
       "0             NaN           NaN           NaN            NaN            NaN   \n",
       "1             NaN             0           NaN            NaN            NaN   \n",
       "2             NaN             0           NaN            NaN            NaN   \n",
       "\n",
       "    ema120Shift_1  ema120Shift_5  ema120Shift_10  ema120Shift_50  \n",
       "id                                                                \n",
       "0             NaN            NaN             NaN             NaN  \n",
       "1               0            NaN             NaN             NaN  \n",
       "2               0            NaN             NaN             NaN  \n",
       "\n",
       "[3 rows x 23 columns]"
      ]
     },
     "execution_count": 139,
     "metadata": {},
     "output_type": "execute_result"
    }
   ],
   "source": [
    "# calculate ma for each MA in the maSettings turple\n",
    "for i in maSettings:\n",
    "    name = 'ema'+str(i)\n",
    "    m5[name] = ExpMovingAverage(m5.close, i)\n",
    "    # calculate ma shoft for each shift bar ([current bar] - [current bar- n bars])\n",
    "    for n in compareShift:\n",
    "        m5[name+'Shift_'+str(n)] = m5[name] - m5.shift(periods = n)[name]\n",
    "    #drop computed ma columns\n",
    "    m5.drop(name, axis = 1, inplace = 1 )\n",
    "m5.head(3)"
   ]
  },
  {
   "cell_type": "code",
   "execution_count": 140,
   "metadata": {
    "collapsed": false
   },
   "outputs": [],
   "source": [
    "#function to compute macd\n",
    "def computeMACD(x, slow=26, fast=12):\n",
    "    \"\"\"\n",
    "    compute the MACD (Moving Average Convergence/Divergence) using a fast and slow exponential moving avg'\n",
    "    return value is emaslow, emafast, macd which are len(x) arrays\n",
    "    \"\"\"\n",
    "    emaslow = ExpMovingAverage(x, slow)\n",
    "    emafast = ExpMovingAverage(x, fast)\n",
    "    return emaslow, emafast, emafast - emaslow"
   ]
  },
  {
   "cell_type": "code",
   "execution_count": 141,
   "metadata": {
    "collapsed": false
   },
   "outputs": [
    {
     "data": {
      "text/plain": [
       "(87259, 33)"
      ]
     },
     "execution_count": 141,
     "metadata": {},
     "output_type": "execute_result"
    }
   ],
   "source": [
    "# calculate macd for each macd on the macdSettings(2d) turple\n",
    "for fast, slow in macdSettings:\n",
    "    name = 'macd'+str(fast)+'_'+str(slow)\n",
    "    _, _, macd = computeMACD(m5.close, slow, fast)\n",
    "    #m5['emaslow'+str(fast)+'_'+str(slow)] = emaslow\n",
    "    #m5['emafast'+str(fast)+'_'+str(slow)] = emafast\n",
    "    m5[name] = macd\n",
    "    # calculate shift for each\n",
    "    for n in compareShift: \n",
    "        m5[name+'Shift_'+str(n)] = m5[name] - m5.shift(periods = n)[name];\n",
    "m5.shape"
   ]
  },
  {
   "cell_type": "code",
   "execution_count": 142,
   "metadata": {
    "collapsed": false
   },
   "outputs": [
    {
     "data": {
      "text/plain": [
       "87259"
      ]
     },
     "execution_count": 142,
     "metadata": {},
     "output_type": "execute_result"
    }
   ],
   "source": [
    "np.count_nonzero(m5.open)"
   ]
  },
  {
   "cell_type": "code",
   "execution_count": 143,
   "metadata": {
    "collapsed": false
   },
   "outputs": [],
   "source": [
    "#m5.columns[6:]"
   ]
  },
  {
   "cell_type": "code",
   "execution_count": null,
   "metadata": {
    "collapsed": false
   },
   "outputs": [],
   "source": []
  },
  {
   "cell_type": "code",
   "execution_count": null,
   "metadata": {
    "collapsed": false
   },
   "outputs": [],
   "source": []
  },
  {
   "cell_type": "code",
   "execution_count": 144,
   "metadata": {
    "collapsed": false
   },
   "outputs": [
    {
     "data": {
      "text/html": [
       "<div>\n",
       "<table border=\"1\" class=\"dataframe\">\n",
       "  <thead>\n",
       "    <tr style=\"text-align: right;\">\n",
       "      <th></th>\n",
       "      <th>ema8Shift_1</th>\n",
       "      <th>ema8Shift_5</th>\n",
       "      <th>ema8Shift_10</th>\n",
       "      <th>ema8Shift_50</th>\n",
       "      <th>ema25Shift_1</th>\n",
       "      <th>ema25Shift_5</th>\n",
       "      <th>ema25Shift_10</th>\n",
       "      <th>ema25Shift_50</th>\n",
       "      <th>ema50Shift_1</th>\n",
       "      <th>ema50Shift_5</th>\n",
       "      <th>...</th>\n",
       "      <th>macd26_12</th>\n",
       "      <th>macd26_12Shift_1</th>\n",
       "      <th>macd26_12Shift_5</th>\n",
       "      <th>macd26_12Shift_10</th>\n",
       "      <th>macd26_12Shift_50</th>\n",
       "      <th>macd55_25</th>\n",
       "      <th>macd55_25Shift_1</th>\n",
       "      <th>macd55_25Shift_5</th>\n",
       "      <th>macd55_25Shift_10</th>\n",
       "      <th>macd55_25Shift_50</th>\n",
       "    </tr>\n",
       "    <tr>\n",
       "      <th>id</th>\n",
       "      <th></th>\n",
       "      <th></th>\n",
       "      <th></th>\n",
       "      <th></th>\n",
       "      <th></th>\n",
       "      <th></th>\n",
       "      <th></th>\n",
       "      <th></th>\n",
       "      <th></th>\n",
       "      <th></th>\n",
       "      <th></th>\n",
       "      <th></th>\n",
       "      <th></th>\n",
       "      <th></th>\n",
       "      <th></th>\n",
       "      <th></th>\n",
       "      <th></th>\n",
       "      <th></th>\n",
       "      <th></th>\n",
       "      <th></th>\n",
       "      <th></th>\n",
       "    </tr>\n",
       "  </thead>\n",
       "  <tbody>\n",
       "    <tr>\n",
       "      <th>115</th>\n",
       "      <td>-0.000051</td>\n",
       "      <td>-0.000261</td>\n",
       "      <td>-0.000416</td>\n",
       "      <td>0.003947</td>\n",
       "      <td>0.000152</td>\n",
       "      <td>0.000936</td>\n",
       "      <td>0.001749</td>\n",
       "      <td>0.003431</td>\n",
       "      <td>0.000062</td>\n",
       "      <td>0.000299</td>\n",
       "      <td>...</td>\n",
       "      <td>-0.000791</td>\n",
       "      <td>0.000269</td>\n",
       "      <td>0.001268</td>\n",
       "      <td>0.001108</td>\n",
       "      <td>-0.001214</td>\n",
       "      <td>-0.001982</td>\n",
       "      <td>-8.833118e-05</td>\n",
       "      <td>-0.000577</td>\n",
       "      <td>-0.001001</td>\n",
       "      <td>-0.001082</td>\n",
       "    </tr>\n",
       "    <tr>\n",
       "      <th>116</th>\n",
       "      <td>-0.000149</td>\n",
       "      <td>-0.000302</td>\n",
       "      <td>-0.000572</td>\n",
       "      <td>0.003620</td>\n",
       "      <td>0.000127</td>\n",
       "      <td>0.000881</td>\n",
       "      <td>0.001745</td>\n",
       "      <td>0.003644</td>\n",
       "      <td>0.000056</td>\n",
       "      <td>0.000298</td>\n",
       "      <td>...</td>\n",
       "      <td>-0.000619</td>\n",
       "      <td>0.000172</td>\n",
       "      <td>0.001267</td>\n",
       "      <td>0.001421</td>\n",
       "      <td>-0.000792</td>\n",
       "      <td>-0.002049</td>\n",
       "      <td>-6.659754e-05</td>\n",
       "      <td>-0.000536</td>\n",
       "      <td>-0.000995</td>\n",
       "      <td>-0.001276</td>\n",
       "    </tr>\n",
       "    <tr>\n",
       "      <th>117</th>\n",
       "      <td>-0.000129</td>\n",
       "      <td>-0.000385</td>\n",
       "      <td>-0.000759</td>\n",
       "      <td>0.003370</td>\n",
       "      <td>0.000113</td>\n",
       "      <td>0.000806</td>\n",
       "      <td>0.001711</td>\n",
       "      <td>0.003794</td>\n",
       "      <td>0.000054</td>\n",
       "      <td>0.000287</td>\n",
       "      <td>...</td>\n",
       "      <td>-0.000466</td>\n",
       "      <td>0.000154</td>\n",
       "      <td>0.001129</td>\n",
       "      <td>0.001744</td>\n",
       "      <td>-0.000379</td>\n",
       "      <td>-0.002098</td>\n",
       "      <td>-4.969532e-05</td>\n",
       "      <td>-0.000477</td>\n",
       "      <td>-0.000967</td>\n",
       "      <td>-0.001402</td>\n",
       "    </tr>\n",
       "    <tr>\n",
       "      <th>118</th>\n",
       "      <td>0.000022</td>\n",
       "      <td>-0.000296</td>\n",
       "      <td>-0.000648</td>\n",
       "      <td>0.003323</td>\n",
       "      <td>0.000136</td>\n",
       "      <td>0.000740</td>\n",
       "      <td>0.001672</td>\n",
       "      <td>0.003956</td>\n",
       "      <td>0.000056</td>\n",
       "      <td>0.000278</td>\n",
       "      <td>...</td>\n",
       "      <td>-0.000367</td>\n",
       "      <td>0.000098</td>\n",
       "      <td>0.000979</td>\n",
       "      <td>0.001872</td>\n",
       "      <td>-0.000123</td>\n",
       "      <td>-0.002166</td>\n",
       "      <td>-6.735137e-05</td>\n",
       "      <td>-0.000417</td>\n",
       "      <td>-0.000938</td>\n",
       "      <td>-0.001531</td>\n",
       "    </tr>\n",
       "    <tr>\n",
       "      <th>119</th>\n",
       "      <td>0.000049</td>\n",
       "      <td>-0.000259</td>\n",
       "      <td>-0.000576</td>\n",
       "      <td>0.003314</td>\n",
       "      <td>0.000134</td>\n",
       "      <td>0.000661</td>\n",
       "      <td>0.001621</td>\n",
       "      <td>0.004073</td>\n",
       "      <td>0.000053</td>\n",
       "      <td>0.000281</td>\n",
       "      <td>...</td>\n",
       "      <td>-0.000186</td>\n",
       "      <td>0.000182</td>\n",
       "      <td>0.000874</td>\n",
       "      <td>0.002046</td>\n",
       "      <td>0.000218</td>\n",
       "      <td>-0.002252</td>\n",
       "      <td>-8.668117e-05</td>\n",
       "      <td>-0.000359</td>\n",
       "      <td>-0.000933</td>\n",
       "      <td>-0.001644</td>\n",
       "    </tr>\n",
       "    <tr>\n",
       "      <th>120</th>\n",
       "      <td>0.000055</td>\n",
       "      <td>-0.000152</td>\n",
       "      <td>-0.000414</td>\n",
       "      <td>0.003297</td>\n",
       "      <td>0.000148</td>\n",
       "      <td>0.000658</td>\n",
       "      <td>0.001593</td>\n",
       "      <td>0.004216</td>\n",
       "      <td>0.000071</td>\n",
       "      <td>0.000291</td>\n",
       "      <td>...</td>\n",
       "      <td>0.000040</td>\n",
       "      <td>0.000226</td>\n",
       "      <td>0.000831</td>\n",
       "      <td>0.002099</td>\n",
       "      <td>0.000554</td>\n",
       "      <td>-0.002339</td>\n",
       "      <td>-8.694729e-05</td>\n",
       "      <td>-0.000357</td>\n",
       "      <td>-0.000934</td>\n",
       "      <td>-0.001768</td>\n",
       "    </tr>\n",
       "    <tr>\n",
       "      <th>121</th>\n",
       "      <td>0.000109</td>\n",
       "      <td>0.000106</td>\n",
       "      <td>-0.000196</td>\n",
       "      <td>0.003310</td>\n",
       "      <td>0.000072</td>\n",
       "      <td>0.000603</td>\n",
       "      <td>0.001484</td>\n",
       "      <td>0.004280</td>\n",
       "      <td>0.000072</td>\n",
       "      <td>0.000306</td>\n",
       "      <td>...</td>\n",
       "      <td>0.000244</td>\n",
       "      <td>0.000204</td>\n",
       "      <td>0.000863</td>\n",
       "      <td>0.002130</td>\n",
       "      <td>0.000830</td>\n",
       "      <td>-0.002355</td>\n",
       "      <td>-1.600401e-05</td>\n",
       "      <td>-0.000307</td>\n",
       "      <td>-0.000843</td>\n",
       "      <td>-0.001825</td>\n",
       "    </tr>\n",
       "    <tr>\n",
       "      <th>122</th>\n",
       "      <td>0.000023</td>\n",
       "      <td>0.000258</td>\n",
       "      <td>-0.000127</td>\n",
       "      <td>0.003382</td>\n",
       "      <td>0.000050</td>\n",
       "      <td>0.000541</td>\n",
       "      <td>0.001347</td>\n",
       "      <td>0.004323</td>\n",
       "      <td>0.000074</td>\n",
       "      <td>0.000327</td>\n",
       "      <td>...</td>\n",
       "      <td>0.000297</td>\n",
       "      <td>0.000053</td>\n",
       "      <td>0.000763</td>\n",
       "      <td>0.001892</td>\n",
       "      <td>0.000904</td>\n",
       "      <td>-0.002355</td>\n",
       "      <td>2.259966e-07</td>\n",
       "      <td>-0.000257</td>\n",
       "      <td>-0.000734</td>\n",
       "      <td>-0.001863</td>\n",
       "    </tr>\n",
       "    <tr>\n",
       "      <th>123</th>\n",
       "      <td>-0.000077</td>\n",
       "      <td>0.000159</td>\n",
       "      <td>-0.000137</td>\n",
       "      <td>0.003304</td>\n",
       "      <td>-0.000022</td>\n",
       "      <td>0.000382</td>\n",
       "      <td>0.001122</td>\n",
       "      <td>0.004265</td>\n",
       "      <td>0.000069</td>\n",
       "      <td>0.000339</td>\n",
       "      <td>...</td>\n",
       "      <td>0.000316</td>\n",
       "      <td>0.000019</td>\n",
       "      <td>0.000683</td>\n",
       "      <td>0.001662</td>\n",
       "      <td>0.000934</td>\n",
       "      <td>-0.002286</td>\n",
       "      <td>6.949643e-05</td>\n",
       "      <td>-0.000120</td>\n",
       "      <td>-0.000536</td>\n",
       "      <td>-0.001809</td>\n",
       "    </tr>\n",
       "    <tr>\n",
       "      <th>124</th>\n",
       "      <td>-0.000030</td>\n",
       "      <td>0.000080</td>\n",
       "      <td>-0.000178</td>\n",
       "      <td>0.003318</td>\n",
       "      <td>-0.000010</td>\n",
       "      <td>0.000238</td>\n",
       "      <td>0.000899</td>\n",
       "      <td>0.004220</td>\n",
       "      <td>0.000078</td>\n",
       "      <td>0.000364</td>\n",
       "      <td>...</td>\n",
       "      <td>0.000293</td>\n",
       "      <td>-0.000023</td>\n",
       "      <td>0.000479</td>\n",
       "      <td>0.001353</td>\n",
       "      <td>0.000912</td>\n",
       "      <td>-0.002224</td>\n",
       "      <td>6.149827e-05</td>\n",
       "      <td>0.000028</td>\n",
       "      <td>-0.000330</td>\n",
       "      <td>-0.001758</td>\n",
       "    </tr>\n",
       "  </tbody>\n",
       "</table>\n",
       "<p>10 rows × 26 columns</p>\n",
       "</div>"
      ],
      "text/plain": [
       "     ema8Shift_1  ema8Shift_5  ema8Shift_10  ema8Shift_50  ema25Shift_1  \\\n",
       "id                                                                        \n",
       "115    -0.000051    -0.000261     -0.000416      0.003947      0.000152   \n",
       "116    -0.000149    -0.000302     -0.000572      0.003620      0.000127   \n",
       "117    -0.000129    -0.000385     -0.000759      0.003370      0.000113   \n",
       "118     0.000022    -0.000296     -0.000648      0.003323      0.000136   \n",
       "119     0.000049    -0.000259     -0.000576      0.003314      0.000134   \n",
       "120     0.000055    -0.000152     -0.000414      0.003297      0.000148   \n",
       "121     0.000109     0.000106     -0.000196      0.003310      0.000072   \n",
       "122     0.000023     0.000258     -0.000127      0.003382      0.000050   \n",
       "123    -0.000077     0.000159     -0.000137      0.003304     -0.000022   \n",
       "124    -0.000030     0.000080     -0.000178      0.003318     -0.000010   \n",
       "\n",
       "     ema25Shift_5  ema25Shift_10  ema25Shift_50  ema50Shift_1  ema50Shift_5  \\\n",
       "id                                                                            \n",
       "115      0.000936       0.001749       0.003431      0.000062      0.000299   \n",
       "116      0.000881       0.001745       0.003644      0.000056      0.000298   \n",
       "117      0.000806       0.001711       0.003794      0.000054      0.000287   \n",
       "118      0.000740       0.001672       0.003956      0.000056      0.000278   \n",
       "119      0.000661       0.001621       0.004073      0.000053      0.000281   \n",
       "120      0.000658       0.001593       0.004216      0.000071      0.000291   \n",
       "121      0.000603       0.001484       0.004280      0.000072      0.000306   \n",
       "122      0.000541       0.001347       0.004323      0.000074      0.000327   \n",
       "123      0.000382       0.001122       0.004265      0.000069      0.000339   \n",
       "124      0.000238       0.000899       0.004220      0.000078      0.000364   \n",
       "\n",
       "           ...          macd26_12  macd26_12Shift_1  macd26_12Shift_5  \\\n",
       "id         ...                                                          \n",
       "115        ...          -0.000791          0.000269          0.001268   \n",
       "116        ...          -0.000619          0.000172          0.001267   \n",
       "117        ...          -0.000466          0.000154          0.001129   \n",
       "118        ...          -0.000367          0.000098          0.000979   \n",
       "119        ...          -0.000186          0.000182          0.000874   \n",
       "120        ...           0.000040          0.000226          0.000831   \n",
       "121        ...           0.000244          0.000204          0.000863   \n",
       "122        ...           0.000297          0.000053          0.000763   \n",
       "123        ...           0.000316          0.000019          0.000683   \n",
       "124        ...           0.000293         -0.000023          0.000479   \n",
       "\n",
       "     macd26_12Shift_10  macd26_12Shift_50  macd55_25  macd55_25Shift_1  \\\n",
       "id                                                                       \n",
       "115           0.001108          -0.001214  -0.001982     -8.833118e-05   \n",
       "116           0.001421          -0.000792  -0.002049     -6.659754e-05   \n",
       "117           0.001744          -0.000379  -0.002098     -4.969532e-05   \n",
       "118           0.001872          -0.000123  -0.002166     -6.735137e-05   \n",
       "119           0.002046           0.000218  -0.002252     -8.668117e-05   \n",
       "120           0.002099           0.000554  -0.002339     -8.694729e-05   \n",
       "121           0.002130           0.000830  -0.002355     -1.600401e-05   \n",
       "122           0.001892           0.000904  -0.002355      2.259966e-07   \n",
       "123           0.001662           0.000934  -0.002286      6.949643e-05   \n",
       "124           0.001353           0.000912  -0.002224      6.149827e-05   \n",
       "\n",
       "     macd55_25Shift_5  macd55_25Shift_10  macd55_25Shift_50  \n",
       "id                                                           \n",
       "115         -0.000577          -0.001001          -0.001082  \n",
       "116         -0.000536          -0.000995          -0.001276  \n",
       "117         -0.000477          -0.000967          -0.001402  \n",
       "118         -0.000417          -0.000938          -0.001531  \n",
       "119         -0.000359          -0.000933          -0.001644  \n",
       "120         -0.000357          -0.000934          -0.001768  \n",
       "121         -0.000307          -0.000843          -0.001825  \n",
       "122         -0.000257          -0.000734          -0.001863  \n",
       "123         -0.000120          -0.000536          -0.001809  \n",
       "124          0.000028          -0.000330          -0.001758  \n",
       "\n",
       "[10 rows x 26 columns]"
      ]
     },
     "execution_count": 144,
     "metadata": {},
     "output_type": "execute_result"
    }
   ],
   "source": [
    "m5[m5.columns[7:]][115:125]"
   ]
  },
  {
   "cell_type": "code",
   "execution_count": 145,
   "metadata": {
    "collapsed": false
   },
   "outputs": [],
   "source": [
    "#remove empty rows (first many used to compute ma, macd & shift)\n",
    "m5 = m5[maxNumber:]"
   ]
  },
  {
   "cell_type": "code",
   "execution_count": 146,
   "metadata": {
    "collapsed": false
   },
   "outputs": [
    {
     "data": {
      "text/plain": [
       "(87087, 33)"
      ]
     },
     "execution_count": 146,
     "metadata": {},
     "output_type": "execute_result"
    }
   ],
   "source": [
    "m5.shape"
   ]
  },
  {
   "cell_type": "code",
   "execution_count": 147,
   "metadata": {
    "collapsed": false
   },
   "outputs": [
    {
     "data": {
      "text/plain": [
       "Index([u'date', u'open', u'high', u'low', u'close', u'move', u'label',\n",
       "       u'ema8Shift_1', u'ema8Shift_5', u'ema8Shift_10', u'ema8Shift_50',\n",
       "       u'ema25Shift_1', u'ema25Shift_5', u'ema25Shift_10', u'ema25Shift_50',\n",
       "       u'ema50Shift_1', u'ema50Shift_5', u'ema50Shift_10', u'ema50Shift_50',\n",
       "       u'ema120Shift_1', u'ema120Shift_5', u'ema120Shift_10',\n",
       "       u'ema120Shift_50', u'macd26_12', u'macd26_12Shift_1',\n",
       "       u'macd26_12Shift_5', u'macd26_12Shift_10', u'macd26_12Shift_50',\n",
       "       u'macd55_25', u'macd55_25Shift_1', u'macd55_25Shift_5',\n",
       "       u'macd55_25Shift_10', u'macd55_25Shift_50'],\n",
       "      dtype='object')"
      ]
     },
     "execution_count": 147,
     "metadata": {},
     "output_type": "execute_result"
    }
   ],
   "source": [
    "m5.columns\n"
   ]
  },
  {
   "cell_type": "code",
   "execution_count": 148,
   "metadata": {
    "collapsed": false
   },
   "outputs": [
    {
     "data": {
      "text/plain": [
       "Index([u'date', u'open', u'high', u'low', u'close', u'move'], dtype='object')"
      ]
     },
     "execution_count": 148,
     "metadata": {},
     "output_type": "execute_result"
    }
   ],
   "source": [
    "m5.columns[:6]"
   ]
  },
  {
   "cell_type": "code",
   "execution_count": 149,
   "metadata": {
    "collapsed": false
   },
   "outputs": [
    {
     "data": {
      "text/plain": [
       "(87087, 27)"
      ]
     },
     "execution_count": 149,
     "metadata": {},
     "output_type": "execute_result"
    }
   ],
   "source": [
    "#remove first 5 columns\n",
    "m5.drop(m5.columns[:6], axis = 1, inplace = 1)\n",
    "m5.shape"
   ]
  },
  {
   "cell_type": "code",
   "execution_count": 150,
   "metadata": {
    "collapsed": false
   },
   "outputs": [
    {
     "data": {
      "text/plain": [
       "Index([u'label', u'ema8Shift_1', u'ema8Shift_5', u'ema8Shift_10',\n",
       "       u'ema8Shift_50', u'ema25Shift_1', u'ema25Shift_5', u'ema25Shift_10',\n",
       "       u'ema25Shift_50', u'ema50Shift_1', u'ema50Shift_5', u'ema50Shift_10',\n",
       "       u'ema50Shift_50', u'ema120Shift_1', u'ema120Shift_5', u'ema120Shift_10',\n",
       "       u'ema120Shift_50', u'macd26_12', u'macd26_12Shift_1',\n",
       "       u'macd26_12Shift_5', u'macd26_12Shift_10', u'macd26_12Shift_50',\n",
       "       u'macd55_25', u'macd55_25Shift_1', u'macd55_25Shift_5',\n",
       "       u'macd55_25Shift_10', u'macd55_25Shift_50'],\n",
       "      dtype='object')"
      ]
     },
     "execution_count": 150,
     "metadata": {},
     "output_type": "execute_result"
    }
   ],
   "source": [
    "m5.columns[:]"
   ]
  },
  {
   "cell_type": "code",
   "execution_count": 151,
   "metadata": {
    "collapsed": false
   },
   "outputs": [],
   "source": [
    "#m5.corr()"
   ]
  },
  {
   "cell_type": "code",
   "execution_count": 152,
   "metadata": {
    "collapsed": false
   },
   "outputs": [],
   "source": [
    "# finally we have a data\n",
    "selected = m5.dropna()"
   ]
  },
  {
   "cell_type": "code",
   "execution_count": 153,
   "metadata": {
    "collapsed": false
   },
   "outputs": [
    {
     "data": {
      "text/plain": [
       "(87087L,)"
      ]
     },
     "execution_count": 153,
     "metadata": {},
     "output_type": "execute_result"
    }
   ],
   "source": [
    "#split features and labels\n",
    "target = selected.label.values\n",
    "train = selected.drop('label',axis=1).values\n",
    "target.shape"
   ]
  },
  {
   "cell_type": "code",
   "execution_count": 154,
   "metadata": {
    "collapsed": true
   },
   "outputs": [],
   "source": [
    "#prepaire  sklearn\n",
    "coder = PCA()\n",
    "#transform data\n",
    "train  = coder.fit_transform(train)"
   ]
  },
  {
   "cell_type": "code",
   "execution_count": 155,
   "metadata": {
    "collapsed": false
   },
   "outputs": [],
   "source": [
    "models = []\n",
    "models.append(RandomForestClassifier(n_estimators=165, max_depth=4, criterion='entropy'))\n",
    "models.append(GradientBoostingClassifier(max_depth =4))\n",
    "models.append(KNeighborsClassifier(n_neighbors=20))\n",
    "models.append(GaussianNB())"
   ]
  },
  {
   "cell_type": "code",
   "execution_count": 156,
   "metadata": {
    "collapsed": false,
    "scrolled": true
   },
   "outputs": [],
   "source": [
    "#split features\n",
    "fTrain, fTest, lTrain, lTest = train_test_split(train, target, random_state = 0)"
   ]
  },
  {
   "cell_type": "code",
   "execution_count": 157,
   "metadata": {
    "collapsed": false
   },
   "outputs": [
    {
     "data": {
      "text/plain": [
       "(65315L, 26L)"
      ]
     },
     "execution_count": 157,
     "metadata": {},
     "output_type": "execute_result"
    }
   ],
   "source": [
    "fTrain.shape"
   ]
  },
  {
   "cell_type": "code",
   "execution_count": null,
   "metadata": {
    "collapsed": false
   },
   "outputs": [],
   "source": []
  },
  {
   "cell_type": "code",
   "execution_count": null,
   "metadata": {
    "collapsed": false
   },
   "outputs": [],
   "source": []
  },
  {
   "cell_type": "code",
   "execution_count": 158,
   "metadata": {
    "collapsed": false
   },
   "outputs": [
    {
     "data": {
      "text/plain": [
       "'10Min'"
      ]
     },
     "execution_count": 158,
     "metadata": {},
     "output_type": "execute_result"
    }
   ],
   "source": [
    "timeFrame"
   ]
  },
  {
   "cell_type": "code",
   "execution_count": 159,
   "metadata": {
    "collapsed": false
   },
   "outputs": [
    {
     "name": "stdout",
     "output_type": "stream",
     "text": [
      "0.579230203932\n",
      "0.605410619144\n",
      "0.492605180966\n",
      "0.626033437443\n"
     ]
    }
   ],
   "source": [
    "### DO the magic and see results\n",
    "\n",
    "#plt.figure(figsize=(18,18))\n",
    "for model in models:\n",
    "    model.fit(fTrain,lTrain)\n",
    "    score = model.score(fTest, lTest)\n",
    "    print score\n",
    "    #pred_scr = model.predict_proba(fTest)[:, 1]\n",
    "    #fpr, tpr, thresholds = roc_curve(lTest, pred_scr)\n",
    "    #roc_auc = ml_metrics.auc(lTrain, pred_scr)\n",
    "    #md = str(model)\n",
    "    #md= md[:md.find('(')]\n",
    "    #plt.plot(fpr, tpr, label = 'Roc fold %s (auc = %0.2f)' %(md, roc_auc))\n",
    "#plt.plot([0,1], [0,1], '--', color = (0.6, 0.6,0.6))\n",
    "##plt.xlim([0,1])\n",
    "#plt.ylim([0,1])\n",
    "#plt.xlabel('False Positive Rate')\n",
    "#plt.ylabel('True Positive Rate')\n",
    "#plt.title('Predicting score for Candle relations')\n",
    "#plt.legend(loc=\"lower right\")\n",
    "#plt.show()"
   ]
  },
  {
   "cell_type": "code",
   "execution_count": 98,
   "metadata": {
    "collapsed": false
   },
   "outputs": [
    {
     "data": {
      "text/plain": [
       "'\\nm1, 27 features:\\n0.540647558137\\n0.551256789485\\n0.509450022338\\n0.553410613934\\n\\nm10, 27 features;\\nm30, 27 features:\\n0.625448523323\\n0.638697212255\\n0.482749102953\\n0.621446315208\\n\\nm15, 27 features:\\n0.623438470564\\n0.638415349576\\n0.489474773966\\n0.643522672372\\n'"
      ]
     },
     "execution_count": 98,
     "metadata": {},
     "output_type": "execute_result"
    }
   ],
   "source": [
    "\n",
    "\n",
    "\n",
    "'''\n",
    "    EURUSD\n",
    "    M15 27F\n",
    "    0.610237306843\n",
    ">>  0.618170529801\n",
    "    0.487651766004\n",
    "    0.605063465784\n",
    "\n",
    "    GBPUSD\n",
    "    m1, 27 features:\n",
    "    0.540647558137\n",
    "    0.551256789485\n",
    "    0.509450022338\n",
    "    0.553410613934\n",
    "\n",
    "    GBPUSD\n",
    "    m10, 27 features:\n",
    "    0.600340057902\n",
    "    0.620192086761\n",
    "    0.492854188686\n",
    ">>> 0.645466660539\n",
    "\n",
    "    GBPUSD\n",
    "    m30, 27 features:\n",
    "    0.625448523323\n",
    "    0.638697212255\n",
    ">>> 0.482749102953\n",
    "    0.621446315208\n",
    "\n",
    "    GBPUSD\n",
    "    m15, 27 features:\n",
    "    0.623438470564\n",
    "    0.638415349576\n",
    "    0.489474773966\n",
    ">>> 0.643522672372\n",
    "'''"
   ]
  },
  {
   "cell_type": "code",
   "execution_count": null,
   "metadata": {
    "collapsed": true
   },
   "outputs": [],
   "source": [
    "#model = models[0]"
   ]
  },
  {
   "cell_type": "code",
   "execution_count": null,
   "metadata": {
    "collapsed": true
   },
   "outputs": [],
   "source": [
    "#model.fit(fTrain, lTrain)"
   ]
  },
  {
   "cell_type": "code",
   "execution_count": null,
   "metadata": {
    "collapsed": false
   },
   "outputs": [],
   "source": [
    "#model.score(fTest, lTest)"
   ]
  },
  {
   "cell_type": "code",
   "execution_count": null,
   "metadata": {
    "collapsed": false
   },
   "outputs": [],
   "source": []
  },
  {
   "cell_type": "code",
   "execution_count": null,
   "metadata": {
    "collapsed": true
   },
   "outputs": [],
   "source": []
  }
 ],
 "metadata": {
  "kernelspec": {
   "display_name": "Python 2",
   "language": "python",
   "name": "python2"
  },
  "language_info": {
   "codemirror_mode": {
    "name": "ipython",
    "version": 2
   },
   "file_extension": ".py",
   "mimetype": "text/x-python",
   "name": "python",
   "nbconvert_exporter": "python",
   "pygments_lexer": "ipython2",
   "version": "2.7.10"
  }
 },
 "nbformat": 4,
 "nbformat_minor": 0
}
