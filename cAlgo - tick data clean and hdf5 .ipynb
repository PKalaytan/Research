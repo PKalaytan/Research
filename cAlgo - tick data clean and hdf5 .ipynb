{
 "cells": [
  {
   "cell_type": "markdown",
   "metadata": {},
   "source": [
    "# Research of cAlgo exported TICK data"
   ]
  },
  {
   "cell_type": "markdown",
   "metadata": {},
   "source": [
    "### Extracting from cAlgo\n",
    "used this cBot to export data: http://ctdn.com/algos/cbots/show/588\n",
    "\n",
    "had to change c# code slightly to extract Bid & Ask but not from depth.<br>\n",
    "logic: when backtesting on cAlgo, it uses Bid & Ask without knowledge of depth<br>\n",
    "also: <strong>spread</strong> is simple ASK - BID calculation performed during export"
   ]
  },
  {
   "cell_type": "markdown",
   "metadata": {},
   "source": [
    "## Python Code:"
   ]
  },
  {
   "cell_type": "code",
   "execution_count": 3,
   "metadata": {
    "collapsed": false
   },
   "outputs": [],
   "source": [
    "import pandas as pd\n",
    "import numpy as np\n",
    "import datetime \n",
    "import matplotlib.pyplot as plt\n",
    "import seaborn as sns\n",
    "%matplotlib inline"
   ]
  },
  {
   "cell_type": "code",
   "execution_count": 1,
   "metadata": {
    "collapsed": false,
    "scrolled": true
   },
   "outputs": [
    {
     "name": "stdout",
     "output_type": "stream",
     "text": [
      "../data/EURUSD-ticks.csv\n"
     ]
    }
   ],
   "source": [
    "### creating inputs:\n",
    "pair = \"EURUSD\"\n",
    "\n",
    "\n",
    "\n",
    "folder = \"../data/\"\n",
    "csv = folder + pair +'-ticks.csv'\n",
    "\n",
    "print csv"
   ]
  },
  {
   "cell_type": "markdown",
   "metadata": {},
   "source": [
    "content of csv file:\n",
    "\n",
    "date,ask,bid,spread<br>\n",
    "2013-04-26 15:16:54.372,1.226800,1.226670,0.000130<br>\n",
    "2013-04-26 15:16:54.583,1.226820,1.226690,0.000130<br>\n",
    "2013-04-26 15:16:54.583,1.226810,1.226690,0.000120\n"
   ]
  },
  {
   "cell_type": "code",
   "execution_count": 4,
   "metadata": {
    "collapsed": false
   },
   "outputs": [],
   "source": [
    "### Importing csv file\n",
    "\n",
    "usecols = ['date', 'ask', 'bid']\n",
    "#dtypes = {'date':pd.tslib.Timestamp, 'ask':np.float32, 'bid':np.float32, }\n",
    "data = pd.read_csv(csv,\n",
    "                   header = False,\n",
    "                   usecols = usecols,\n",
    "                   #dtype=dtypes,\n",
    "                   parse_dates=['date']\n",
    "                   #date_parser = dateparse\n",
    "                   )\n",
    "\n",
    "\n"
   ]
  },
  {
   "cell_type": "code",
   "execution_count": 9,
   "metadata": {
    "collapsed": false
   },
   "outputs": [],
   "source": [
    "clean = data[data.ask - data.bid > 0].copy()"
   ]
  },
  {
   "cell_type": "code",
   "execution_count": 10,
   "metadata": {
    "collapsed": false
   },
   "outputs": [
    {
     "data": {
      "text/plain": [
       "date    28097417\n",
       "ask     28097417\n",
       "bid     28097417\n",
       "dtype: int64"
      ]
     },
     "execution_count": 10,
     "metadata": {},
     "output_type": "execute_result"
    }
   ],
   "source": [
    "clean.count()"
   ]
  },
  {
   "cell_type": "code",
   "execution_count": null,
   "metadata": {
    "collapsed": true
   },
   "outputs": [],
   "source": []
  },
  {
   "cell_type": "code",
   "execution_count": null,
   "metadata": {
    "collapsed": true
   },
   "outputs": [],
   "source": []
  },
  {
   "cell_type": "code",
   "execution_count": null,
   "metadata": {
    "collapsed": true
   },
   "outputs": [],
   "source": []
  },
  {
   "cell_type": "code",
   "execution_count": 4,
   "metadata": {
    "collapsed": false
   },
   "outputs": [],
   "source": [
    "### compute spread and convert to pips (not points)\n",
    "data['spreadPips'] = (data.ask - data.bid)*10000"
   ]
  },
  {
   "cell_type": "code",
   "execution_count": 5,
   "metadata": {
    "collapsed": false
   },
   "outputs": [
    {
     "data": {
      "text/html": [
       "<div>\n",
       "<table border=\"1\" class=\"dataframe\">\n",
       "  <thead>\n",
       "    <tr style=\"text-align: right;\">\n",
       "      <th></th>\n",
       "      <th>date</th>\n",
       "      <th>ask</th>\n",
       "      <th>bid</th>\n",
       "      <th>spreadPips</th>\n",
       "    </tr>\n",
       "  </thead>\n",
       "  <tbody>\n",
       "    <tr>\n",
       "      <th>0</th>\n",
       "      <td>2013-04-26 15:11:09.298</td>\n",
       "      <td>1.30252</td>\n",
       "      <td>1.30247</td>\n",
       "      <td>0.5</td>\n",
       "    </tr>\n",
       "    <tr>\n",
       "      <th>1</th>\n",
       "      <td>2013-04-26 15:11:09.298</td>\n",
       "      <td>1.30252</td>\n",
       "      <td>1.30247</td>\n",
       "      <td>0.5</td>\n",
       "    </tr>\n",
       "    <tr>\n",
       "      <th>2</th>\n",
       "      <td>2013-04-26 15:16:02.148</td>\n",
       "      <td>1.30297</td>\n",
       "      <td>1.30295</td>\n",
       "      <td>0.2</td>\n",
       "    </tr>\n",
       "    <tr>\n",
       "      <th>3</th>\n",
       "      <td>2013-04-26 15:16:02.360</td>\n",
       "      <td>1.30298</td>\n",
       "      <td>1.30297</td>\n",
       "      <td>0.1</td>\n",
       "    </tr>\n",
       "    <tr>\n",
       "      <th>4</th>\n",
       "      <td>2013-04-26 15:16:02.623</td>\n",
       "      <td>1.30304</td>\n",
       "      <td>1.30301</td>\n",
       "      <td>0.3</td>\n",
       "    </tr>\n",
       "  </tbody>\n",
       "</table>\n",
       "</div>"
      ],
      "text/plain": [
       "                     date      ask      bid  spreadPips\n",
       "0 2013-04-26 15:11:09.298  1.30252  1.30247         0.5\n",
       "1 2013-04-26 15:11:09.298  1.30252  1.30247         0.5\n",
       "2 2013-04-26 15:16:02.148  1.30297  1.30295         0.2\n",
       "3 2013-04-26 15:16:02.360  1.30298  1.30297         0.1\n",
       "4 2013-04-26 15:16:02.623  1.30304  1.30301         0.3"
      ]
     },
     "execution_count": 5,
     "metadata": {},
     "output_type": "execute_result"
    }
   ],
   "source": [
    "#display what we have\n",
    "data.head()"
   ]
  },
  {
   "cell_type": "markdown",
   "metadata": {},
   "source": [
    "## Interesting bit:"
   ]
  },
  {
   "cell_type": "code",
   "execution_count": 6,
   "metadata": {
    "collapsed": false
   },
   "outputs": [],
   "source": [
    "###copy all negative spreads\n",
    "neg = data[data.spreadPips < 0]"
   ]
  },
  {
   "cell_type": "code",
   "execution_count": 7,
   "metadata": {
    "collapsed": false
   },
   "outputs": [
    {
     "name": "stdout",
     "output_type": "stream",
     "text": [
      "So we have 1,686,043 records with negative Spread!\n"
     ]
    }
   ],
   "source": [
    "many = '{0:,}'.format(neg.spreadPips.count())\n",
    "print \"So we have %s records with negative Spread!\"  %many"
   ]
  },
  {
   "cell_type": "markdown",
   "metadata": {},
   "source": [
    "# So many ticks with negative spread?!?"
   ]
  },
  {
   "cell_type": "code",
   "execution_count": 8,
   "metadata": {
    "collapsed": false,
    "scrolled": true
   },
   "outputs": [
    {
     "data": {
      "text/plain": [
       "(array([  2.50000000e+01,   3.40000000e+01,   1.49000000e+02,\n",
       "          2.27000000e+02,   6.19000000e+02,   2.29700000e+03,\n",
       "          6.09300000e+03,   1.67520000e+04,   1.01957000e+05,\n",
       "          1.55789000e+06]),\n",
       " array([-85.1, -76.6, -68.1, -59.6, -51.1, -42.6, -34.1, -25.6, -17.1,\n",
       "         -8.6,  -0.1]),\n",
       " <a list of 10 Patch objects>)"
      ]
     },
     "execution_count": 8,
     "metadata": {},
     "output_type": "execute_result"
    },
    {
     "data": {
      "image/png": "[encoded data removed]",
      "text/plain": [
       "<matplotlib.figure.Figure at 0x18fd9198>"
      ]
     },
     "metadata": {},
     "output_type": "display_data"
    }
   ],
   "source": [
    "plt.hist(neg.spreadPips.values, bins = 10)"
   ]
  },
  {
   "cell_type": "markdown",
   "metadata": {},
   "source": [
    "## Let's zoomin on numbers below -10pip"
   ]
  },
  {
   "cell_type": "code",
   "execution_count": 9,
   "metadata": {
    "collapsed": false
   },
   "outputs": [
    {
     "data": {
      "text/plain": [
       "(array([  2.10000000e+01,   3.10000000e+01,   6.20000000e+01,\n",
       "          1.82000000e+02,   2.76000000e+02,   9.33000000e+02,\n",
       "          2.53700000e+03,   5.95300000e+03,   1.45070000e+04,\n",
       "          6.76790000e+04]),\n",
       " array([-85.1 , -77.59, -70.08, -62.57, -55.06, -47.55, -40.04, -32.53,\n",
       "        -25.02, -17.51, -10.  ]),\n",
       " <a list of 10 Patch objects>)"
      ]
     },
     "execution_count": 9,
     "metadata": {},
     "output_type": "execute_result"
    },
    {
     "data": {
      "image/png": "[encoded data removed]",
      "text/plain": [
       "<matplotlib.figure.Figure at 0x8f395668>"
      ]
     },
     "metadata": {},
     "output_type": "display_data"
    }
   ],
   "source": [
    "neg1 = neg[neg.spreadPips < -10]\n",
    "plt.hist(neg1.spreadPips.values)"
   ]
  },
  {
   "cell_type": "markdown",
   "metadata": {},
   "source": [
    "## Lets zoomin below -30 pips (not points)"
   ]
  },
  {
   "cell_type": "code",
   "execution_count": 10,
   "metadata": {
    "collapsed": false
   },
   "outputs": [
    {
     "data": {
      "text/plain": [
       "(array([   14.,    26.,    17.,    50.,   147.,   141.,   221.,   749.,\n",
       "         1426.,  2635.]),\n",
       " array([-85.1 , -79.59, -74.08, -68.57, -63.06, -57.55, -52.04, -46.53,\n",
       "        -41.02, -35.51, -30.  ]),\n",
       " <a list of 10 Patch objects>)"
      ]
     },
     "execution_count": 10,
     "metadata": {},
     "output_type": "execute_result"
    },
    {
     "data": {
      "image/png": "[encoded data removed]",
      "text/plain": [
       "<matplotlib.figure.Figure at 0x683de438>"
      ]
     },
     "metadata": {},
     "output_type": "display_data"
    }
   ],
   "source": [
    "neg2 = neg[neg.spreadPips < -30]\n",
    "plt.hist(neg2.spreadPips.values)"
   ]
  },
  {
   "cell_type": "markdown",
   "metadata": {},
   "source": [
    "# Lets see entries for below -45 pips!"
   ]
  },
  {
   "cell_type": "code",
   "execution_count": 11,
   "metadata": {
    "collapsed": false
   },
   "outputs": [
    {
     "name": "stdout",
     "output_type": "stream",
     "text": [
      "We have 774 ticks with spread below -45 pips! \n"
     ]
    }
   ],
   "source": [
    "neg45 = neg[neg.spreadPips < -45]\n",
    "print \"We have %s ticks with spread below -45 pips! \" %neg45.spreadPips.count()\n"
   ]
  },
  {
   "cell_type": "code",
   "execution_count": 12,
   "metadata": {
    "collapsed": false
   },
   "outputs": [
    {
     "data": {
      "text/html": [
       "<div>\n",
       "<table border=\"1\" class=\"dataframe\">\n",
       "  <thead>\n",
       "    <tr style=\"text-align: right;\">\n",
       "      <th></th>\n",
       "      <th>date</th>\n",
       "      <th>ask</th>\n",
       "      <th>bid</th>\n",
       "      <th>spreadPips</th>\n",
       "    </tr>\n",
       "  </thead>\n",
       "  <tbody>\n",
       "    <tr>\n",
       "      <th>23592439</th>\n",
       "      <td>2015-06-02 10:10:50.394</td>\n",
       "      <td>1.09904</td>\n",
       "      <td>1.10363</td>\n",
       "      <td>-45.9</td>\n",
       "    </tr>\n",
       "    <tr>\n",
       "      <th>23592440</th>\n",
       "      <td>2015-06-02 10:10:50.394</td>\n",
       "      <td>1.09905</td>\n",
       "      <td>1.10363</td>\n",
       "      <td>-45.8</td>\n",
       "    </tr>\n",
       "    <tr>\n",
       "      <th>23592441</th>\n",
       "      <td>2015-06-02 10:10:50.820</td>\n",
       "      <td>1.09905</td>\n",
       "      <td>1.10367</td>\n",
       "      <td>-46.2</td>\n",
       "    </tr>\n",
       "    <tr>\n",
       "      <th>23592444</th>\n",
       "      <td>2015-06-02 10:10:51.677</td>\n",
       "      <td>1.09897</td>\n",
       "      <td>1.10348</td>\n",
       "      <td>-45.1</td>\n",
       "    </tr>\n",
       "    <tr>\n",
       "      <th>23592445</th>\n",
       "      <td>2015-06-02 10:10:52.067</td>\n",
       "      <td>1.09897</td>\n",
       "      <td>1.10352</td>\n",
       "      <td>-45.5</td>\n",
       "    </tr>\n",
       "    <tr>\n",
       "      <th>23592446</th>\n",
       "      <td>2015-06-02 10:10:52.067</td>\n",
       "      <td>1.09896</td>\n",
       "      <td>1.10352</td>\n",
       "      <td>-45.6</td>\n",
       "    </tr>\n",
       "    <tr>\n",
       "      <th>23592460</th>\n",
       "      <td>2015-06-02 10:10:56.347</td>\n",
       "      <td>1.09889</td>\n",
       "      <td>1.10343</td>\n",
       "      <td>-45.4</td>\n",
       "    </tr>\n",
       "    <tr>\n",
       "      <th>23592461</th>\n",
       "      <td>2015-06-02 10:10:56.777</td>\n",
       "      <td>1.09889</td>\n",
       "      <td>1.10350</td>\n",
       "      <td>-46.1</td>\n",
       "    </tr>\n",
       "    <tr>\n",
       "      <th>23592462</th>\n",
       "      <td>2015-06-02 10:10:57.194</td>\n",
       "      <td>1.09889</td>\n",
       "      <td>1.10354</td>\n",
       "      <td>-46.5</td>\n",
       "    </tr>\n",
       "    <tr>\n",
       "      <th>23592463</th>\n",
       "      <td>2015-06-02 10:10:57.194</td>\n",
       "      <td>1.09890</td>\n",
       "      <td>1.10354</td>\n",
       "      <td>-46.4</td>\n",
       "    </tr>\n",
       "    <tr>\n",
       "      <th>23592464</th>\n",
       "      <td>2015-06-02 10:10:57.627</td>\n",
       "      <td>1.09890</td>\n",
       "      <td>1.10349</td>\n",
       "      <td>-45.9</td>\n",
       "    </tr>\n",
       "    <tr>\n",
       "      <th>23592465</th>\n",
       "      <td>2015-06-02 10:10:57.627</td>\n",
       "      <td>1.09889</td>\n",
       "      <td>1.10349</td>\n",
       "      <td>-46.0</td>\n",
       "    </tr>\n",
       "    <tr>\n",
       "      <th>23592466</th>\n",
       "      <td>2015-06-02 10:10:58.032</td>\n",
       "      <td>1.09889</td>\n",
       "      <td>1.10351</td>\n",
       "      <td>-46.2</td>\n",
       "    </tr>\n",
       "    <tr>\n",
       "      <th>23592467</th>\n",
       "      <td>2015-06-02 10:10:58.032</td>\n",
       "      <td>1.09886</td>\n",
       "      <td>1.10351</td>\n",
       "      <td>-46.5</td>\n",
       "    </tr>\n",
       "    <tr>\n",
       "      <th>23592468</th>\n",
       "      <td>2015-06-02 10:10:58.439</td>\n",
       "      <td>1.09886</td>\n",
       "      <td>1.10353</td>\n",
       "      <td>-46.7</td>\n",
       "    </tr>\n",
       "    <tr>\n",
       "      <th>23592469</th>\n",
       "      <td>2015-06-02 10:10:58.439</td>\n",
       "      <td>1.09885</td>\n",
       "      <td>1.10353</td>\n",
       "      <td>-46.8</td>\n",
       "    </tr>\n",
       "    <tr>\n",
       "      <th>23592470</th>\n",
       "      <td>2015-06-02 10:10:58.844</td>\n",
       "      <td>1.09885</td>\n",
       "      <td>1.10352</td>\n",
       "      <td>-46.7</td>\n",
       "    </tr>\n",
       "    <tr>\n",
       "      <th>23592471</th>\n",
       "      <td>2015-06-02 10:10:58.844</td>\n",
       "      <td>1.09884</td>\n",
       "      <td>1.10352</td>\n",
       "      <td>-46.8</td>\n",
       "    </tr>\n",
       "    <tr>\n",
       "      <th>23592472</th>\n",
       "      <td>2015-06-02 10:10:59.267</td>\n",
       "      <td>1.09884</td>\n",
       "      <td>1.10344</td>\n",
       "      <td>-46.0</td>\n",
       "    </tr>\n",
       "    <tr>\n",
       "      <th>23592473</th>\n",
       "      <td>2015-06-02 10:10:59.682</td>\n",
       "      <td>1.09882</td>\n",
       "      <td>1.10338</td>\n",
       "      <td>-45.6</td>\n",
       "    </tr>\n",
       "    <tr>\n",
       "      <th>23592474</th>\n",
       "      <td>2015-06-02 10:11:00.114</td>\n",
       "      <td>1.09882</td>\n",
       "      <td>1.10334</td>\n",
       "      <td>-45.2</td>\n",
       "    </tr>\n",
       "    <tr>\n",
       "      <th>23592475</th>\n",
       "      <td>2015-06-02 10:11:00.114</td>\n",
       "      <td>1.09883</td>\n",
       "      <td>1.10334</td>\n",
       "      <td>-45.1</td>\n",
       "    </tr>\n",
       "    <tr>\n",
       "      <th>23592476</th>\n",
       "      <td>2015-06-02 10:11:00.538</td>\n",
       "      <td>1.09883</td>\n",
       "      <td>1.10336</td>\n",
       "      <td>-45.3</td>\n",
       "    </tr>\n",
       "    <tr>\n",
       "      <th>23592477</th>\n",
       "      <td>2015-06-02 10:11:00.538</td>\n",
       "      <td>1.09882</td>\n",
       "      <td>1.10336</td>\n",
       "      <td>-45.4</td>\n",
       "    </tr>\n",
       "    <tr>\n",
       "      <th>23592478</th>\n",
       "      <td>2015-06-02 10:11:00.538</td>\n",
       "      <td>1.09884</td>\n",
       "      <td>1.10336</td>\n",
       "      <td>-45.2</td>\n",
       "    </tr>\n",
       "    <tr>\n",
       "      <th>23592479</th>\n",
       "      <td>2015-06-02 10:11:01.376</td>\n",
       "      <td>1.09884</td>\n",
       "      <td>1.10335</td>\n",
       "      <td>-45.1</td>\n",
       "    </tr>\n",
       "    <tr>\n",
       "      <th>23592486</th>\n",
       "      <td>2015-06-02 10:11:03.042</td>\n",
       "      <td>1.09891</td>\n",
       "      <td>1.10344</td>\n",
       "      <td>-45.3</td>\n",
       "    </tr>\n",
       "    <tr>\n",
       "      <th>23592488</th>\n",
       "      <td>2015-06-02 10:11:03.473</td>\n",
       "      <td>1.09896</td>\n",
       "      <td>1.10349</td>\n",
       "      <td>-45.3</td>\n",
       "    </tr>\n",
       "    <tr>\n",
       "      <th>23592498</th>\n",
       "      <td>2015-06-02 10:11:06.088</td>\n",
       "      <td>1.09914</td>\n",
       "      <td>1.10368</td>\n",
       "      <td>-45.4</td>\n",
       "    </tr>\n",
       "    <tr>\n",
       "      <th>23592499</th>\n",
       "      <td>2015-06-02 10:11:06.088</td>\n",
       "      <td>1.09912</td>\n",
       "      <td>1.10368</td>\n",
       "      <td>-45.6</td>\n",
       "    </tr>\n",
       "    <tr>\n",
       "      <th>...</th>\n",
       "      <td>...</td>\n",
       "      <td>...</td>\n",
       "      <td>...</td>\n",
       "      <td>...</td>\n",
       "    </tr>\n",
       "    <tr>\n",
       "      <th>23616009</th>\n",
       "      <td>2015-06-02 13:01:08.836</td>\n",
       "      <td>1.11082</td>\n",
       "      <td>1.11548</td>\n",
       "      <td>-46.6</td>\n",
       "    </tr>\n",
       "    <tr>\n",
       "      <th>23616012</th>\n",
       "      <td>2015-06-02 13:01:09.696</td>\n",
       "      <td>1.11084</td>\n",
       "      <td>1.11541</td>\n",
       "      <td>-45.7</td>\n",
       "    </tr>\n",
       "    <tr>\n",
       "      <th>23616013</th>\n",
       "      <td>2015-06-02 13:01:10.123</td>\n",
       "      <td>1.11084</td>\n",
       "      <td>1.11543</td>\n",
       "      <td>-45.9</td>\n",
       "    </tr>\n",
       "    <tr>\n",
       "      <th>23616014</th>\n",
       "      <td>2015-06-02 13:01:10.123</td>\n",
       "      <td>1.11085</td>\n",
       "      <td>1.11543</td>\n",
       "      <td>-45.8</td>\n",
       "    </tr>\n",
       "    <tr>\n",
       "      <th>23616015</th>\n",
       "      <td>2015-06-02 13:01:10.551</td>\n",
       "      <td>1.11085</td>\n",
       "      <td>1.11537</td>\n",
       "      <td>-45.2</td>\n",
       "    </tr>\n",
       "    <tr>\n",
       "      <th>23616019</th>\n",
       "      <td>2015-06-02 13:01:11.391</td>\n",
       "      <td>1.11091</td>\n",
       "      <td>1.11542</td>\n",
       "      <td>-45.1</td>\n",
       "    </tr>\n",
       "    <tr>\n",
       "      <th>23616021</th>\n",
       "      <td>2015-06-02 13:01:11.822</td>\n",
       "      <td>1.11093</td>\n",
       "      <td>1.11573</td>\n",
       "      <td>-48.0</td>\n",
       "    </tr>\n",
       "    <tr>\n",
       "      <th>23616022</th>\n",
       "      <td>2015-06-02 13:01:11.822</td>\n",
       "      <td>1.11078</td>\n",
       "      <td>1.11573</td>\n",
       "      <td>-49.5</td>\n",
       "    </tr>\n",
       "    <tr>\n",
       "      <th>23616023</th>\n",
       "      <td>2015-06-02 13:01:12.251</td>\n",
       "      <td>1.11078</td>\n",
       "      <td>1.11561</td>\n",
       "      <td>-48.3</td>\n",
       "    </tr>\n",
       "    <tr>\n",
       "      <th>23616024</th>\n",
       "      <td>2015-06-02 13:01:12.251</td>\n",
       "      <td>1.11080</td>\n",
       "      <td>1.11561</td>\n",
       "      <td>-48.1</td>\n",
       "    </tr>\n",
       "    <tr>\n",
       "      <th>23616025</th>\n",
       "      <td>2015-06-02 13:01:12.682</td>\n",
       "      <td>1.11080</td>\n",
       "      <td>1.11562</td>\n",
       "      <td>-48.2</td>\n",
       "    </tr>\n",
       "    <tr>\n",
       "      <th>23616026</th>\n",
       "      <td>2015-06-02 13:01:13.089</td>\n",
       "      <td>1.11080</td>\n",
       "      <td>1.11559</td>\n",
       "      <td>-47.9</td>\n",
       "    </tr>\n",
       "    <tr>\n",
       "      <th>23616027</th>\n",
       "      <td>2015-06-02 13:01:13.941</td>\n",
       "      <td>1.11080</td>\n",
       "      <td>1.11573</td>\n",
       "      <td>-49.3</td>\n",
       "    </tr>\n",
       "    <tr>\n",
       "      <th>23616028</th>\n",
       "      <td>2015-06-02 13:01:14.389</td>\n",
       "      <td>1.11080</td>\n",
       "      <td>1.11591</td>\n",
       "      <td>-51.1</td>\n",
       "    </tr>\n",
       "    <tr>\n",
       "      <th>23616029</th>\n",
       "      <td>2015-06-02 13:01:14.826</td>\n",
       "      <td>1.11080</td>\n",
       "      <td>1.11589</td>\n",
       "      <td>-50.9</td>\n",
       "    </tr>\n",
       "    <tr>\n",
       "      <th>23616030</th>\n",
       "      <td>2015-06-02 13:01:14.826</td>\n",
       "      <td>1.11072</td>\n",
       "      <td>1.11589</td>\n",
       "      <td>-51.7</td>\n",
       "    </tr>\n",
       "    <tr>\n",
       "      <th>23616031</th>\n",
       "      <td>2015-06-02 13:01:15.268</td>\n",
       "      <td>1.11072</td>\n",
       "      <td>1.11608</td>\n",
       "      <td>-53.6</td>\n",
       "    </tr>\n",
       "    <tr>\n",
       "      <th>23616032</th>\n",
       "      <td>2015-06-02 13:01:15.268</td>\n",
       "      <td>1.11079</td>\n",
       "      <td>1.11608</td>\n",
       "      <td>-52.9</td>\n",
       "    </tr>\n",
       "    <tr>\n",
       "      <th>23616033</th>\n",
       "      <td>2015-06-02 13:01:15.699</td>\n",
       "      <td>1.11079</td>\n",
       "      <td>1.11618</td>\n",
       "      <td>-53.9</td>\n",
       "    </tr>\n",
       "    <tr>\n",
       "      <th>23616034</th>\n",
       "      <td>2015-06-02 13:01:15.699</td>\n",
       "      <td>1.11083</td>\n",
       "      <td>1.11618</td>\n",
       "      <td>-53.5</td>\n",
       "    </tr>\n",
       "    <tr>\n",
       "      <th>23616035</th>\n",
       "      <td>2015-06-02 13:01:16.131</td>\n",
       "      <td>1.11083</td>\n",
       "      <td>1.11633</td>\n",
       "      <td>-55.0</td>\n",
       "    </tr>\n",
       "    <tr>\n",
       "      <th>23616036</th>\n",
       "      <td>2015-06-02 13:01:16.131</td>\n",
       "      <td>1.11073</td>\n",
       "      <td>1.11633</td>\n",
       "      <td>-56.0</td>\n",
       "    </tr>\n",
       "    <tr>\n",
       "      <th>23616037</th>\n",
       "      <td>2015-06-02 13:01:16.571</td>\n",
       "      <td>1.11073</td>\n",
       "      <td>1.11637</td>\n",
       "      <td>-56.4</td>\n",
       "    </tr>\n",
       "    <tr>\n",
       "      <th>23616038</th>\n",
       "      <td>2015-06-02 13:01:16.571</td>\n",
       "      <td>1.11076</td>\n",
       "      <td>1.11637</td>\n",
       "      <td>-56.1</td>\n",
       "    </tr>\n",
       "    <tr>\n",
       "      <th>23616039</th>\n",
       "      <td>2015-06-02 13:01:17.006</td>\n",
       "      <td>1.11076</td>\n",
       "      <td>1.11645</td>\n",
       "      <td>-56.9</td>\n",
       "    </tr>\n",
       "    <tr>\n",
       "      <th>23616040</th>\n",
       "      <td>2015-06-02 13:01:17.445</td>\n",
       "      <td>1.11076</td>\n",
       "      <td>1.11653</td>\n",
       "      <td>-57.7</td>\n",
       "    </tr>\n",
       "    <tr>\n",
       "      <th>23616041</th>\n",
       "      <td>2015-06-02 13:01:17.445</td>\n",
       "      <td>1.11079</td>\n",
       "      <td>1.11653</td>\n",
       "      <td>-57.4</td>\n",
       "    </tr>\n",
       "    <tr>\n",
       "      <th>23616042</th>\n",
       "      <td>2015-06-02 13:01:17.871</td>\n",
       "      <td>1.11079</td>\n",
       "      <td>1.11666</td>\n",
       "      <td>-58.7</td>\n",
       "    </tr>\n",
       "    <tr>\n",
       "      <th>23616043</th>\n",
       "      <td>2015-06-02 13:01:17.871</td>\n",
       "      <td>1.11077</td>\n",
       "      <td>1.11666</td>\n",
       "      <td>-58.9</td>\n",
       "    </tr>\n",
       "    <tr>\n",
       "      <th>23616044</th>\n",
       "      <td>2015-06-02 13:01:18.327</td>\n",
       "      <td>1.11077</td>\n",
       "      <td>1.11679</td>\n",
       "      <td>-60.2</td>\n",
       "    </tr>\n",
       "  </tbody>\n",
       "</table>\n",
       "<p>100 rows × 4 columns</p>\n",
       "</div>"
      ],
      "text/plain": [
       "                            date      ask      bid  spreadPips\n",
       "23592439 2015-06-02 10:10:50.394  1.09904  1.10363       -45.9\n",
       "23592440 2015-06-02 10:10:50.394  1.09905  1.10363       -45.8\n",
       "23592441 2015-06-02 10:10:50.820  1.09905  1.10367       -46.2\n",
       "23592444 2015-06-02 10:10:51.677  1.09897  1.10348       -45.1\n",
       "23592445 2015-06-02 10:10:52.067  1.09897  1.10352       -45.5\n",
       "23592446 2015-06-02 10:10:52.067  1.09896  1.10352       -45.6\n",
       "23592460 2015-06-02 10:10:56.347  1.09889  1.10343       -45.4\n",
       "23592461 2015-06-02 10:10:56.777  1.09889  1.10350       -46.1\n",
       "23592462 2015-06-02 10:10:57.194  1.09889  1.10354       -46.5\n",
       "23592463 2015-06-02 10:10:57.194  1.09890  1.10354       -46.4\n",
       "23592464 2015-06-02 10:10:57.627  1.09890  1.10349       -45.9\n",
       "23592465 2015-06-02 10:10:57.627  1.09889  1.10349       -46.0\n",
       "23592466 2015-06-02 10:10:58.032  1.09889  1.10351       -46.2\n",
       "23592467 2015-06-02 10:10:58.032  1.09886  1.10351       -46.5\n",
       "23592468 2015-06-02 10:10:58.439  1.09886  1.10353       -46.7\n",
       "23592469 2015-06-02 10:10:58.439  1.09885  1.10353       -46.8\n",
       "23592470 2015-06-02 10:10:58.844  1.09885  1.10352       -46.7\n",
       "23592471 2015-06-02 10:10:58.844  1.09884  1.10352       -46.8\n",
       "23592472 2015-06-02 10:10:59.267  1.09884  1.10344       -46.0\n",
       "23592473 2015-06-02 10:10:59.682  1.09882  1.10338       -45.6\n",
       "23592474 2015-06-02 10:11:00.114  1.09882  1.10334       -45.2\n",
       "23592475 2015-06-02 10:11:00.114  1.09883  1.10334       -45.1\n",
       "23592476 2015-06-02 10:11:00.538  1.09883  1.10336       -45.3\n",
       "23592477 2015-06-02 10:11:00.538  1.09882  1.10336       -45.4\n",
       "23592478 2015-06-02 10:11:00.538  1.09884  1.10336       -45.2\n",
       "23592479 2015-06-02 10:11:01.376  1.09884  1.10335       -45.1\n",
       "23592486 2015-06-02 10:11:03.042  1.09891  1.10344       -45.3\n",
       "23592488 2015-06-02 10:11:03.473  1.09896  1.10349       -45.3\n",
       "23592498 2015-06-02 10:11:06.088  1.09914  1.10368       -45.4\n",
       "23592499 2015-06-02 10:11:06.088  1.09912  1.10368       -45.6\n",
       "...                          ...      ...      ...         ...\n",
       "23616009 2015-06-02 13:01:08.836  1.11082  1.11548       -46.6\n",
       "23616012 2015-06-02 13:01:09.696  1.11084  1.11541       -45.7\n",
       "23616013 2015-06-02 13:01:10.123  1.11084  1.11543       -45.9\n",
       "23616014 2015-06-02 13:01:10.123  1.11085  1.11543       -45.8\n",
       "23616015 2015-06-02 13:01:10.551  1.11085  1.11537       -45.2\n",
       "23616019 2015-06-02 13:01:11.391  1.11091  1.11542       -45.1\n",
       "23616021 2015-06-02 13:01:11.822  1.11093  1.11573       -48.0\n",
       "23616022 2015-06-02 13:01:11.822  1.11078  1.11573       -49.5\n",
       "23616023 2015-06-02 13:01:12.251  1.11078  1.11561       -48.3\n",
       "23616024 2015-06-02 13:01:12.251  1.11080  1.11561       -48.1\n",
       "23616025 2015-06-02 13:01:12.682  1.11080  1.11562       -48.2\n",
       "23616026 2015-06-02 13:01:13.089  1.11080  1.11559       -47.9\n",
       "23616027 2015-06-02 13:01:13.941  1.11080  1.11573       -49.3\n",
       "23616028 2015-06-02 13:01:14.389  1.11080  1.11591       -51.1\n",
       "23616029 2015-06-02 13:01:14.826  1.11080  1.11589       -50.9\n",
       "23616030 2015-06-02 13:01:14.826  1.11072  1.11589       -51.7\n",
       "23616031 2015-06-02 13:01:15.268  1.11072  1.11608       -53.6\n",
       "23616032 2015-06-02 13:01:15.268  1.11079  1.11608       -52.9\n",
       "23616033 2015-06-02 13:01:15.699  1.11079  1.11618       -53.9\n",
       "23616034 2015-06-02 13:01:15.699  1.11083  1.11618       -53.5\n",
       "23616035 2015-06-02 13:01:16.131  1.11083  1.11633       -55.0\n",
       "23616036 2015-06-02 13:01:16.131  1.11073  1.11633       -56.0\n",
       "23616037 2015-06-02 13:01:16.571  1.11073  1.11637       -56.4\n",
       "23616038 2015-06-02 13:01:16.571  1.11076  1.11637       -56.1\n",
       "23616039 2015-06-02 13:01:17.006  1.11076  1.11645       -56.9\n",
       "23616040 2015-06-02 13:01:17.445  1.11076  1.11653       -57.7\n",
       "23616041 2015-06-02 13:01:17.445  1.11079  1.11653       -57.4\n",
       "23616042 2015-06-02 13:01:17.871  1.11079  1.11666       -58.7\n",
       "23616043 2015-06-02 13:01:17.871  1.11077  1.11666       -58.9\n",
       "23616044 2015-06-02 13:01:18.327  1.11077  1.11679       -60.2\n",
       "\n",
       "[100 rows x 4 columns]"
      ]
     },
     "execution_count": 12,
     "metadata": {},
     "output_type": "execute_result"
    }
   ],
   "source": [
    "neg45.head(100)"
   ]
  },
  {
   "cell_type": "code",
   "execution_count": null,
   "metadata": {
    "collapsed": false
   },
   "outputs": [],
   "source": []
  },
  {
   "cell_type": "code",
   "execution_count": null,
   "metadata": {
    "collapsed": false
   },
   "outputs": [],
   "source": []
  },
  {
   "cell_type": "code",
   "execution_count": null,
   "metadata": {
    "collapsed": true
   },
   "outputs": [],
   "source": []
  }
 ],
 "metadata": {
  "kernelspec": {
   "display_name": "Python 2",
   "language": "python",
   "name": "python2"
  },
  "language_info": {
   "codemirror_mode": {
    "name": "ipython",
    "version": 2
   },
   "file_extension": ".py",
   "mimetype": "text/x-python",
   "name": "python",
   "nbconvert_exporter": "python",
   "pygments_lexer": "ipython2",
   "version": "2.7.10"
  }
 },
 "nbformat": 4,
 "nbformat_minor": 0
}
