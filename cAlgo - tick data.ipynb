{
 "cells": [
  {
   "cell_type": "markdown",
   "metadata": {},
   "source": [
    "# Research of cAlgo exported TICK data"
   ]
  },
  {
   "cell_type": "markdown",
   "metadata": {},
   "source": [
    "### Extracting from cAlgo\n",
    "used this cBot to export data: http://ctdn.com/algos/cbots/show/588\n",
    "\n",
    "had to change c# code slightly to extract Bid & Ask but not from depth.\n",
    "logic: when backtesting on cAlgo, it uses Bid & Ask without knowledge of depth"
   ]
  },
  {
   "cell_type": "markdown",
   "metadata": {},
   "source": [
    "# Python Code:"
   ]
  },
  {
   "cell_type": "code",
   "execution_count": null,
   "metadata": {
    "collapsed": true
   },
   "outputs": [],
   "source": [
    "import pandas as pd\n",
    "import numpy as np\n",
    "import datetime \n",
    "\n",
    "\n"
   ]
  },
  {
   "cell_type": "code",
   "execution_count": 11,
   "metadata": {
    "collapsed": false
   },
   "outputs": [
    {
     "name": "stdout",
     "output_type": "stream",
     "text": [
      "../data/EURUSD-ticks-649.csv\n"
     ]
    }
   ],
   "source": [
    "### creating inputs:\n",
    "pair = \"EURUSD\"\n",
    "\n",
    "\n",
    "\n",
    "folder = \"../data/\"\n",
    "csv = folder + pair +'-ticks-649.csv'\n",
    "\n",
    "print csv"
   ]
  },
  {
   "cell_type": "markdown",
   "metadata": {},
   "source": [
    "content of csv file:\n",
    "\n",
    "date,ask,bid,spread<br>\n",
    "2013-04-26 15:16:54.372,1.226800,1.226670,0.000130<br>\n",
    "2013-04-26 15:16:54.583,1.226820,1.226690,0.000130<br>\n",
    "2013-04-26 15:16:54.583,1.226810,1.226690,0.000120\n"
   ]
  },
  {
   "cell_type": "code",
   "execution_count": null,
   "metadata": {
    "collapsed": false
   },
   "outputs": [],
   "source": []
  },
  {
   "cell_type": "code",
   "execution_count": null,
   "metadata": {
    "collapsed": true
   },
   "outputs": [],
   "source": []
  }
 ],
 "metadata": {
  "kernelspec": {
   "display_name": "Python 2",
   "language": "python",
   "name": "python2"
  },
  "language_info": {
   "codemirror_mode": {
    "name": "ipython",
    "version": 2
   },
   "file_extension": ".py",
   "mimetype": "text/x-python",
   "name": "python",
   "nbconvert_exporter": "python",
   "pygments_lexer": "ipython2",
   "version": "2.7.10"
  }
 },
 "nbformat": 4,
 "nbformat_minor": 0
}
