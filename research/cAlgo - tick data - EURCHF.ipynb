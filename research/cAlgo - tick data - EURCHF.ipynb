{
 "cells": [
  {
   "cell_type": "markdown",
   "metadata": {},
   "source": [
    "# Research of cAlgo exported TICK data"
   ]
  },
  {
   "cell_type": "markdown",
   "metadata": {},
   "source": [
    "### Extracting from cAlgo\n",
    "used this cBot to export data: http://ctdn.com/algos/cbots/show/588\n",
    "\n",
    "had to change c# code slightly to extract Bid & Ask but not from depth.<br>\n",
    "logic: when backtesting on cAlgo, it uses Bid & Ask without knowledge of depth<br>\n",
    "also: <strong>spread</strong> is simple ASK - BID calculation performed during export"
   ]
  },
  {
   "cell_type": "markdown",
   "metadata": {},
   "source": [
    "## Python Code:"
   ]
  },
  {
   "cell_type": "code",
   "execution_count": 1,
   "metadata": {
    "collapsed": false
   },
   "outputs": [],
   "source": [
    "import pandas as pd\n",
    "import numpy as np\n",
    "import datetime \n",
    "import matplotlib.pyplot as plt\n",
    "import seaborn as sns\n",
    "%matplotlib inline"
   ]
  },
  {
   "cell_type": "code",
   "execution_count": 2,
   "metadata": {
    "collapsed": false,
    "scrolled": true
   },
   "outputs": [
    {
     "name": "stdout",
     "output_type": "stream",
     "text": [
      "../data/EURCHF-ticks.csv\n"
     ]
    }
   ],
   "source": [
    "### creating inputs:\n",
    "pair = \"EURCHF\"\n",
    "\n",
    "\n",
    "\n",
    "folder = \"../data/\"\n",
    "csv = folder + pair +'-ticks.csv'\n",
    "\n",
    "print csv"
   ]
  },
  {
   "cell_type": "markdown",
   "metadata": {},
   "source": [
    "content of csv file:\n",
    "\n",
    "date,ask,bid,spread<br>\n",
    "2013-04-26 15:16:54.372,1.226800,1.226670,0.000130<br>\n",
    "2013-04-26 15:16:54.583,1.226820,1.226690,0.000130<br>\n",
    "2013-04-26 15:16:54.583,1.226810,1.226690,0.000120\n"
   ]
  },
  {
   "cell_type": "code",
   "execution_count": 3,
   "metadata": {
    "collapsed": false
   },
   "outputs": [],
   "source": [
    "### Importing csv file\n",
    "\n",
    "usecols = ['date', 'ask', 'bid']\n",
    "#dtypes = {'date':pd.tslib.Timestamp, 'ask':np.float32, 'bid':np.float32, }\n",
    "data = pd.read_csv(csv,\n",
    "                   header = False,\n",
    "                   usecols = usecols,\n",
    "                   #dtype=dtypes,\n",
    "                   parse_dates=['date']\n",
    "                   #date_parser = dateparse\n",
    "                   )\n",
    "\n",
    "\n"
   ]
  },
  {
   "cell_type": "code",
   "execution_count": 4,
   "metadata": {
    "collapsed": false
   },
   "outputs": [],
   "source": [
    "### compute spread and convert to pips (not points)\n",
    "data['spreadPips'] = (data.ask - data.bid)*10000"
   ]
  },
  {
   "cell_type": "code",
   "execution_count": 5,
   "metadata": {
    "collapsed": false
   },
   "outputs": [
    {
     "data": {
      "text/html": [
       "<div>\n",
       "<table border=\"1\" class=\"dataframe\">\n",
       "  <thead>\n",
       "    <tr style=\"text-align: right;\">\n",
       "      <th></th>\n",
       "      <th>date</th>\n",
       "      <th>ask</th>\n",
       "      <th>bid</th>\n",
       "      <th>spreadPips</th>\n",
       "    </tr>\n",
       "  </thead>\n",
       "  <tbody>\n",
       "    <tr>\n",
       "      <th>0</th>\n",
       "      <td>2013-04-26 15:16:54.372</td>\n",
       "      <td>1.22680</td>\n",
       "      <td>1.22667</td>\n",
       "      <td>1.3</td>\n",
       "    </tr>\n",
       "    <tr>\n",
       "      <th>1</th>\n",
       "      <td>2013-04-26 15:16:54.583</td>\n",
       "      <td>1.22682</td>\n",
       "      <td>1.22669</td>\n",
       "      <td>1.3</td>\n",
       "    </tr>\n",
       "    <tr>\n",
       "      <th>2</th>\n",
       "      <td>2013-04-26 15:16:54.583</td>\n",
       "      <td>1.22681</td>\n",
       "      <td>1.22669</td>\n",
       "      <td>1.2</td>\n",
       "    </tr>\n",
       "    <tr>\n",
       "      <th>3</th>\n",
       "      <td>2013-04-26 15:16:59.872</td>\n",
       "      <td>1.22680</td>\n",
       "      <td>1.22667</td>\n",
       "      <td>1.3</td>\n",
       "    </tr>\n",
       "    <tr>\n",
       "      <th>4</th>\n",
       "      <td>2013-04-26 15:16:59.872</td>\n",
       "      <td>1.22677</td>\n",
       "      <td>1.22667</td>\n",
       "      <td>1.0</td>\n",
       "    </tr>\n",
       "  </tbody>\n",
       "</table>\n",
       "</div>"
      ],
      "text/plain": [
       "                     date      ask      bid  spreadPips\n",
       "0 2013-04-26 15:16:54.372  1.22680  1.22667         1.3\n",
       "1 2013-04-26 15:16:54.583  1.22682  1.22669         1.3\n",
       "2 2013-04-26 15:16:54.583  1.22681  1.22669         1.2\n",
       "3 2013-04-26 15:16:59.872  1.22680  1.22667         1.3\n",
       "4 2013-04-26 15:16:59.872  1.22677  1.22667         1.0"
      ]
     },
     "execution_count": 5,
     "metadata": {},
     "output_type": "execute_result"
    }
   ],
   "source": [
    "#display what we have\n",
    "data.head()"
   ]
  },
  {
   "cell_type": "markdown",
   "metadata": {},
   "source": [
    "## Interesting bit:"
   ]
  },
  {
   "cell_type": "code",
   "execution_count": 6,
   "metadata": {
    "collapsed": false
   },
   "outputs": [],
   "source": [
    "###copy all negative spreads\n",
    "neg = data[data.spreadPips < 0]"
   ]
  },
  {
   "cell_type": "code",
   "execution_count": 7,
   "metadata": {
    "collapsed": false
   },
   "outputs": [
    {
     "name": "stdout",
     "output_type": "stream",
     "text": [
      "So we have 1,027,509 records with negative Spread!\n"
     ]
    }
   ],
   "source": [
    "many = '{0:,}'.format(neg.spreadPips.count())\n",
    "print \"So we have %s records with negative Spread!\"  %many"
   ]
  },
  {
   "cell_type": "markdown",
   "metadata": {},
   "source": [
    "# So many ticks with negative spread?!?"
   ]
  },
  {
   "cell_type": "code",
   "execution_count": 8,
   "metadata": {
    "collapsed": false,
    "scrolled": true
   },
   "outputs": [
    {
     "data": {
      "text/plain": [
       "(array([  8.10000000e+01,   3.55000000e+02,   1.95000000e+02,\n",
       "          5.16000000e+02,   1.47500000e+03,   3.14400000e+03,\n",
       "          7.38900000e+03,   2.43610000e+04,   1.12985000e+05,\n",
       "          8.77008000e+05]),\n",
       " array([-51.3 , -46.18, -41.06, -35.94, -30.82, -25.7 , -20.58, -15.46,\n",
       "        -10.34,  -5.22,  -0.1 ]),\n",
       " <a list of 10 Patch objects>)"
      ]
     },
     "execution_count": 8,
     "metadata": {},
     "output_type": "execute_result"
    },
    {
     "data": {
      "image/png": "[encoded data removed]",
      "text/plain": [
       "<matplotlib.figure.Figure at 0x1cb477b8>"
      ]
     },
     "metadata": {},
     "output_type": "display_data"
    }
   ],
   "source": [
    "plt.hist(neg.spreadPips.values, bins = 10)"
   ]
  },
  {
   "cell_type": "markdown",
   "metadata": {},
   "source": [
    "## Let's zoomin on numbers below -10pip"
   ]
  },
  {
   "cell_type": "code",
   "execution_count": 9,
   "metadata": {
    "collapsed": false
   },
   "outputs": [
    {
     "data": {
      "text/plain": [
       "(array([    48.,    138.,    351.,    169.,    480.,   1123.,   1927.,\n",
       "          4150.,   8331.,  24064.]),\n",
       " array([-51.3 , -47.17, -43.04, -38.91, -34.78, -30.65, -26.52, -22.39,\n",
       "        -18.26, -14.13, -10.  ]),\n",
       " <a list of 10 Patch objects>)"
      ]
     },
     "execution_count": 9,
     "metadata": {},
     "output_type": "execute_result"
    },
    {
     "data": {
      "image/png": "[encoded data removed]",
      "text/plain": [
       "<matplotlib.figure.Figure at 0x6cda3668>"
      ]
     },
     "metadata": {},
     "output_type": "display_data"
    }
   ],
   "source": [
    "neg1 = neg[neg.spreadPips < -10]\n",
    "plt.hist(neg1.spreadPips.values)"
   ]
  },
  {
   "cell_type": "markdown",
   "metadata": {},
   "source": [
    "## Lets zoomin below -30 pips (not points)"
   ]
  },
  {
   "cell_type": "code",
   "execution_count": 10,
   "metadata": {
    "collapsed": false
   },
   "outputs": [
    {
     "data": {
      "text/plain": [
       "(array([   9.,   44.,   59.,  111.,  229.,  105.,   60.,  110.,  218.,  388.]),\n",
       " array([-51.3 , -49.17, -47.04, -44.91, -42.78, -40.65, -38.52, -36.39,\n",
       "        -34.26, -32.13, -30.  ]),\n",
       " <a list of 10 Patch objects>)"
      ]
     },
     "execution_count": 10,
     "metadata": {},
     "output_type": "execute_result"
    },
    {
     "data": {
      "image/png": "[encoded data removed]",
      "text/plain": [
       "<matplotlib.figure.Figure at 0x47c9def0>"
      ]
     },
     "metadata": {},
     "output_type": "display_data"
    }
   ],
   "source": [
    "neg2 = neg[neg.spreadPips < -30]\n",
    "plt.hist(neg2.spreadPips.values)"
   ]
  },
  {
   "cell_type": "markdown",
   "metadata": {},
   "source": [
    "# Lets see entries for below -45 pips!"
   ]
  },
  {
   "cell_type": "code",
   "execution_count": 11,
   "metadata": {
    "collapsed": false
   },
   "outputs": [
    {
     "name": "stdout",
     "output_type": "stream",
     "text": [
      "We have 110 ticks with spread below -45 pips! \n"
     ]
    }
   ],
   "source": [
    "neg45 = neg[neg.spreadPips < -45]\n",
    "print \"We have %s ticks with spread below -45 pips! \" %neg45.spreadPips.count()\n"
   ]
  },
  {
   "cell_type": "code",
   "execution_count": 12,
   "metadata": {
    "collapsed": false
   },
   "outputs": [
    {
     "data": {
      "text/html": [
       "<div>\n",
       "<table border=\"1\" class=\"dataframe\">\n",
       "  <thead>\n",
       "    <tr style=\"text-align: right;\">\n",
       "      <th></th>\n",
       "      <th>date</th>\n",
       "      <th>ask</th>\n",
       "      <th>bid</th>\n",
       "      <th>spreadPips</th>\n",
       "    </tr>\n",
       "  </thead>\n",
       "  <tbody>\n",
       "    <tr>\n",
       "      <th>20391645</th>\n",
       "      <td>2015-06-25 13:24:32.667</td>\n",
       "      <td>1.04722</td>\n",
       "      <td>1.05183</td>\n",
       "      <td>-46.1</td>\n",
       "    </tr>\n",
       "    <tr>\n",
       "      <th>20391646</th>\n",
       "      <td>2015-06-25 13:24:37.393</td>\n",
       "      <td>1.04722</td>\n",
       "      <td>1.05181</td>\n",
       "      <td>-45.9</td>\n",
       "    </tr>\n",
       "    <tr>\n",
       "      <th>20391647</th>\n",
       "      <td>2015-06-25 13:24:37.393</td>\n",
       "      <td>1.04725</td>\n",
       "      <td>1.05181</td>\n",
       "      <td>-45.6</td>\n",
       "    </tr>\n",
       "    <tr>\n",
       "      <th>20391648</th>\n",
       "      <td>2015-06-25 13:24:37.393</td>\n",
       "      <td>1.04727</td>\n",
       "      <td>1.05181</td>\n",
       "      <td>-45.4</td>\n",
       "    </tr>\n",
       "    <tr>\n",
       "      <th>20391649</th>\n",
       "      <td>2015-06-25 13:24:38.254</td>\n",
       "      <td>1.04727</td>\n",
       "      <td>1.05180</td>\n",
       "      <td>-45.3</td>\n",
       "    </tr>\n",
       "    <tr>\n",
       "      <th>20391650</th>\n",
       "      <td>2015-06-25 13:24:38.254</td>\n",
       "      <td>1.04708</td>\n",
       "      <td>1.05180</td>\n",
       "      <td>-47.2</td>\n",
       "    </tr>\n",
       "    <tr>\n",
       "      <th>20391651</th>\n",
       "      <td>2015-06-25 13:24:38.254</td>\n",
       "      <td>1.04704</td>\n",
       "      <td>1.05180</td>\n",
       "      <td>-47.6</td>\n",
       "    </tr>\n",
       "    <tr>\n",
       "      <th>20391652</th>\n",
       "      <td>2015-06-25 13:24:39.133</td>\n",
       "      <td>1.04704</td>\n",
       "      <td>1.05177</td>\n",
       "      <td>-47.3</td>\n",
       "    </tr>\n",
       "    <tr>\n",
       "      <th>20391653</th>\n",
       "      <td>2015-06-25 13:24:39.133</td>\n",
       "      <td>1.04706</td>\n",
       "      <td>1.05177</td>\n",
       "      <td>-47.1</td>\n",
       "    </tr>\n",
       "    <tr>\n",
       "      <th>20391654</th>\n",
       "      <td>2015-06-25 13:24:39.133</td>\n",
       "      <td>1.04709</td>\n",
       "      <td>1.05177</td>\n",
       "      <td>-46.8</td>\n",
       "    </tr>\n",
       "    <tr>\n",
       "      <th>20391655</th>\n",
       "      <td>2015-06-25 13:24:39.133</td>\n",
       "      <td>1.04700</td>\n",
       "      <td>1.05177</td>\n",
       "      <td>-47.7</td>\n",
       "    </tr>\n",
       "    <tr>\n",
       "      <th>20391656</th>\n",
       "      <td>2015-06-25 13:24:39.133</td>\n",
       "      <td>1.04699</td>\n",
       "      <td>1.05177</td>\n",
       "      <td>-47.8</td>\n",
       "    </tr>\n",
       "    <tr>\n",
       "      <th>20391657</th>\n",
       "      <td>2015-06-25 13:24:39.133</td>\n",
       "      <td>1.04700</td>\n",
       "      <td>1.05177</td>\n",
       "      <td>-47.7</td>\n",
       "    </tr>\n",
       "    <tr>\n",
       "      <th>20391658</th>\n",
       "      <td>2015-06-25 13:24:39.133</td>\n",
       "      <td>1.04724</td>\n",
       "      <td>1.05177</td>\n",
       "      <td>-45.3</td>\n",
       "    </tr>\n",
       "    <tr>\n",
       "      <th>20391659</th>\n",
       "      <td>2015-06-25 13:24:39.133</td>\n",
       "      <td>1.04712</td>\n",
       "      <td>1.05177</td>\n",
       "      <td>-46.5</td>\n",
       "    </tr>\n",
       "    <tr>\n",
       "      <th>20391660</th>\n",
       "      <td>2015-06-25 13:24:39.133</td>\n",
       "      <td>1.04708</td>\n",
       "      <td>1.05177</td>\n",
       "      <td>-46.9</td>\n",
       "    </tr>\n",
       "    <tr>\n",
       "      <th>20391661</th>\n",
       "      <td>2015-06-25 13:24:39.133</td>\n",
       "      <td>1.04709</td>\n",
       "      <td>1.05177</td>\n",
       "      <td>-46.8</td>\n",
       "    </tr>\n",
       "    <tr>\n",
       "      <th>20391662</th>\n",
       "      <td>2015-06-25 13:24:39.133</td>\n",
       "      <td>1.04714</td>\n",
       "      <td>1.05177</td>\n",
       "      <td>-46.3</td>\n",
       "    </tr>\n",
       "    <tr>\n",
       "      <th>20391663</th>\n",
       "      <td>2015-06-25 13:24:39.133</td>\n",
       "      <td>1.04713</td>\n",
       "      <td>1.05177</td>\n",
       "      <td>-46.4</td>\n",
       "    </tr>\n",
       "    <tr>\n",
       "      <th>20391664</th>\n",
       "      <td>2015-06-25 13:24:39.133</td>\n",
       "      <td>1.04706</td>\n",
       "      <td>1.05177</td>\n",
       "      <td>-47.1</td>\n",
       "    </tr>\n",
       "    <tr>\n",
       "      <th>20391665</th>\n",
       "      <td>2015-06-25 13:24:39.133</td>\n",
       "      <td>1.04715</td>\n",
       "      <td>1.05177</td>\n",
       "      <td>-46.2</td>\n",
       "    </tr>\n",
       "    <tr>\n",
       "      <th>20391666</th>\n",
       "      <td>2015-06-25 13:24:39.133</td>\n",
       "      <td>1.04667</td>\n",
       "      <td>1.05177</td>\n",
       "      <td>-51.0</td>\n",
       "    </tr>\n",
       "    <tr>\n",
       "      <th>20391667</th>\n",
       "      <td>2015-06-25 13:24:39.133</td>\n",
       "      <td>1.04666</td>\n",
       "      <td>1.05177</td>\n",
       "      <td>-51.1</td>\n",
       "    </tr>\n",
       "    <tr>\n",
       "      <th>20391668</th>\n",
       "      <td>2015-06-25 13:24:46.443</td>\n",
       "      <td>1.04666</td>\n",
       "      <td>1.05174</td>\n",
       "      <td>-50.8</td>\n",
       "    </tr>\n",
       "    <tr>\n",
       "      <th>20391669</th>\n",
       "      <td>2015-06-25 13:24:46.443</td>\n",
       "      <td>1.04661</td>\n",
       "      <td>1.05174</td>\n",
       "      <td>-51.3</td>\n",
       "    </tr>\n",
       "    <tr>\n",
       "      <th>20391670</th>\n",
       "      <td>2015-06-25 13:24:46.443</td>\n",
       "      <td>1.04676</td>\n",
       "      <td>1.05174</td>\n",
       "      <td>-49.8</td>\n",
       "    </tr>\n",
       "    <tr>\n",
       "      <th>20391671</th>\n",
       "      <td>2015-06-25 13:24:47.371</td>\n",
       "      <td>1.04676</td>\n",
       "      <td>1.05175</td>\n",
       "      <td>-49.9</td>\n",
       "    </tr>\n",
       "    <tr>\n",
       "      <th>20391672</th>\n",
       "      <td>2015-06-25 13:24:47.371</td>\n",
       "      <td>1.04675</td>\n",
       "      <td>1.05175</td>\n",
       "      <td>-50.0</td>\n",
       "    </tr>\n",
       "    <tr>\n",
       "      <th>20391673</th>\n",
       "      <td>2015-06-25 13:24:47.371</td>\n",
       "      <td>1.04681</td>\n",
       "      <td>1.05175</td>\n",
       "      <td>-49.4</td>\n",
       "    </tr>\n",
       "    <tr>\n",
       "      <th>20391674</th>\n",
       "      <td>2015-06-25 13:24:47.371</td>\n",
       "      <td>1.04685</td>\n",
       "      <td>1.05175</td>\n",
       "      <td>-49.0</td>\n",
       "    </tr>\n",
       "    <tr>\n",
       "      <th>...</th>\n",
       "      <td>...</td>\n",
       "      <td>...</td>\n",
       "      <td>...</td>\n",
       "      <td>...</td>\n",
       "    </tr>\n",
       "    <tr>\n",
       "      <th>20690106</th>\n",
       "      <td>2015-07-01 14:22:53.771</td>\n",
       "      <td>1.04451</td>\n",
       "      <td>1.04921</td>\n",
       "      <td>-47.0</td>\n",
       "    </tr>\n",
       "    <tr>\n",
       "      <th>20690107</th>\n",
       "      <td>2015-07-01 14:22:54.221</td>\n",
       "      <td>1.04451</td>\n",
       "      <td>1.04919</td>\n",
       "      <td>-46.8</td>\n",
       "    </tr>\n",
       "    <tr>\n",
       "      <th>20690108</th>\n",
       "      <td>2015-07-01 14:22:55.092</td>\n",
       "      <td>1.04451</td>\n",
       "      <td>1.04920</td>\n",
       "      <td>-46.9</td>\n",
       "    </tr>\n",
       "    <tr>\n",
       "      <th>20690109</th>\n",
       "      <td>2015-07-01 14:22:55.978</td>\n",
       "      <td>1.04451</td>\n",
       "      <td>1.04922</td>\n",
       "      <td>-47.1</td>\n",
       "    </tr>\n",
       "    <tr>\n",
       "      <th>20690110</th>\n",
       "      <td>2015-07-01 14:22:55.978</td>\n",
       "      <td>1.04453</td>\n",
       "      <td>1.04922</td>\n",
       "      <td>-46.9</td>\n",
       "    </tr>\n",
       "    <tr>\n",
       "      <th>20690111</th>\n",
       "      <td>2015-07-01 14:22:56.420</td>\n",
       "      <td>1.04453</td>\n",
       "      <td>1.04925</td>\n",
       "      <td>-47.2</td>\n",
       "    </tr>\n",
       "    <tr>\n",
       "      <th>20690112</th>\n",
       "      <td>2015-07-01 14:22:56.420</td>\n",
       "      <td>1.04451</td>\n",
       "      <td>1.04925</td>\n",
       "      <td>-47.4</td>\n",
       "    </tr>\n",
       "    <tr>\n",
       "      <th>20690113</th>\n",
       "      <td>2015-07-01 14:22:56.856</td>\n",
       "      <td>1.04451</td>\n",
       "      <td>1.04927</td>\n",
       "      <td>-47.6</td>\n",
       "    </tr>\n",
       "    <tr>\n",
       "      <th>20690114</th>\n",
       "      <td>2015-07-01 14:22:56.856</td>\n",
       "      <td>1.04452</td>\n",
       "      <td>1.04927</td>\n",
       "      <td>-47.5</td>\n",
       "    </tr>\n",
       "    <tr>\n",
       "      <th>20690115</th>\n",
       "      <td>2015-07-01 14:22:57.306</td>\n",
       "      <td>1.04452</td>\n",
       "      <td>1.04929</td>\n",
       "      <td>-47.7</td>\n",
       "    </tr>\n",
       "    <tr>\n",
       "      <th>20690116</th>\n",
       "      <td>2015-07-01 14:22:58.174</td>\n",
       "      <td>1.04452</td>\n",
       "      <td>1.04930</td>\n",
       "      <td>-47.8</td>\n",
       "    </tr>\n",
       "    <tr>\n",
       "      <th>20690117</th>\n",
       "      <td>2015-07-01 14:22:59.055</td>\n",
       "      <td>1.04452</td>\n",
       "      <td>1.04931</td>\n",
       "      <td>-47.9</td>\n",
       "    </tr>\n",
       "    <tr>\n",
       "      <th>20690118</th>\n",
       "      <td>2015-07-01 14:22:59.508</td>\n",
       "      <td>1.04452</td>\n",
       "      <td>1.04930</td>\n",
       "      <td>-47.8</td>\n",
       "    </tr>\n",
       "    <tr>\n",
       "      <th>20690119</th>\n",
       "      <td>2015-07-01 14:22:59.508</td>\n",
       "      <td>1.04448</td>\n",
       "      <td>1.04930</td>\n",
       "      <td>-48.2</td>\n",
       "    </tr>\n",
       "    <tr>\n",
       "      <th>20690120</th>\n",
       "      <td>2015-07-01 14:22:59.508</td>\n",
       "      <td>1.04450</td>\n",
       "      <td>1.04930</td>\n",
       "      <td>-48.0</td>\n",
       "    </tr>\n",
       "    <tr>\n",
       "      <th>20690121</th>\n",
       "      <td>2015-07-01 14:23:00.383</td>\n",
       "      <td>1.04450</td>\n",
       "      <td>1.04927</td>\n",
       "      <td>-47.7</td>\n",
       "    </tr>\n",
       "    <tr>\n",
       "      <th>20690122</th>\n",
       "      <td>2015-07-01 14:23:00.383</td>\n",
       "      <td>1.04451</td>\n",
       "      <td>1.04927</td>\n",
       "      <td>-47.6</td>\n",
       "    </tr>\n",
       "    <tr>\n",
       "      <th>20690123</th>\n",
       "      <td>2015-07-01 14:23:00.826</td>\n",
       "      <td>1.04451</td>\n",
       "      <td>1.04930</td>\n",
       "      <td>-47.9</td>\n",
       "    </tr>\n",
       "    <tr>\n",
       "      <th>20690124</th>\n",
       "      <td>2015-07-01 14:23:01.260</td>\n",
       "      <td>1.04449</td>\n",
       "      <td>1.04931</td>\n",
       "      <td>-48.2</td>\n",
       "    </tr>\n",
       "    <tr>\n",
       "      <th>20690125</th>\n",
       "      <td>2015-07-01 14:23:01.260</td>\n",
       "      <td>1.04445</td>\n",
       "      <td>1.04931</td>\n",
       "      <td>-48.6</td>\n",
       "    </tr>\n",
       "    <tr>\n",
       "      <th>20690126</th>\n",
       "      <td>2015-07-01 14:23:02.158</td>\n",
       "      <td>1.04445</td>\n",
       "      <td>1.04924</td>\n",
       "      <td>-47.9</td>\n",
       "    </tr>\n",
       "    <tr>\n",
       "      <th>20690127</th>\n",
       "      <td>2015-07-01 14:23:02.632</td>\n",
       "      <td>1.04445</td>\n",
       "      <td>1.04913</td>\n",
       "      <td>-46.8</td>\n",
       "    </tr>\n",
       "    <tr>\n",
       "      <th>20690128</th>\n",
       "      <td>2015-07-01 14:23:03.096</td>\n",
       "      <td>1.04445</td>\n",
       "      <td>1.04912</td>\n",
       "      <td>-46.7</td>\n",
       "    </tr>\n",
       "    <tr>\n",
       "      <th>20690129</th>\n",
       "      <td>2015-07-01 14:23:03.546</td>\n",
       "      <td>1.04445</td>\n",
       "      <td>1.04914</td>\n",
       "      <td>-46.9</td>\n",
       "    </tr>\n",
       "    <tr>\n",
       "      <th>20690130</th>\n",
       "      <td>2015-07-01 14:23:04.000</td>\n",
       "      <td>1.04445</td>\n",
       "      <td>1.04908</td>\n",
       "      <td>-46.3</td>\n",
       "    </tr>\n",
       "    <tr>\n",
       "      <th>20690131</th>\n",
       "      <td>2015-07-01 14:23:04.456</td>\n",
       "      <td>1.04445</td>\n",
       "      <td>1.04913</td>\n",
       "      <td>-46.8</td>\n",
       "    </tr>\n",
       "    <tr>\n",
       "      <th>20690132</th>\n",
       "      <td>2015-07-01 14:23:04.909</td>\n",
       "      <td>1.04445</td>\n",
       "      <td>1.04912</td>\n",
       "      <td>-46.7</td>\n",
       "    </tr>\n",
       "    <tr>\n",
       "      <th>20690133</th>\n",
       "      <td>2015-07-01 14:23:05.361</td>\n",
       "      <td>1.04445</td>\n",
       "      <td>1.04910</td>\n",
       "      <td>-46.5</td>\n",
       "    </tr>\n",
       "    <tr>\n",
       "      <th>20690134</th>\n",
       "      <td>2015-07-01 14:23:05.811</td>\n",
       "      <td>1.04445</td>\n",
       "      <td>1.04907</td>\n",
       "      <td>-46.2</td>\n",
       "    </tr>\n",
       "    <tr>\n",
       "      <th>20690135</th>\n",
       "      <td>2015-07-01 14:23:05.811</td>\n",
       "      <td>1.04444</td>\n",
       "      <td>1.04907</td>\n",
       "      <td>-46.3</td>\n",
       "    </tr>\n",
       "  </tbody>\n",
       "</table>\n",
       "<p>100 rows × 4 columns</p>\n",
       "</div>"
      ],
      "text/plain": [
       "                            date      ask      bid  spreadPips\n",
       "20391645 2015-06-25 13:24:32.667  1.04722  1.05183       -46.1\n",
       "20391646 2015-06-25 13:24:37.393  1.04722  1.05181       -45.9\n",
       "20391647 2015-06-25 13:24:37.393  1.04725  1.05181       -45.6\n",
       "20391648 2015-06-25 13:24:37.393  1.04727  1.05181       -45.4\n",
       "20391649 2015-06-25 13:24:38.254  1.04727  1.05180       -45.3\n",
       "20391650 2015-06-25 13:24:38.254  1.04708  1.05180       -47.2\n",
       "20391651 2015-06-25 13:24:38.254  1.04704  1.05180       -47.6\n",
       "20391652 2015-06-25 13:24:39.133  1.04704  1.05177       -47.3\n",
       "20391653 2015-06-25 13:24:39.133  1.04706  1.05177       -47.1\n",
       "20391654 2015-06-25 13:24:39.133  1.04709  1.05177       -46.8\n",
       "20391655 2015-06-25 13:24:39.133  1.04700  1.05177       -47.7\n",
       "20391656 2015-06-25 13:24:39.133  1.04699  1.05177       -47.8\n",
       "20391657 2015-06-25 13:24:39.133  1.04700  1.05177       -47.7\n",
       "20391658 2015-06-25 13:24:39.133  1.04724  1.05177       -45.3\n",
       "20391659 2015-06-25 13:24:39.133  1.04712  1.05177       -46.5\n",
       "20391660 2015-06-25 13:24:39.133  1.04708  1.05177       -46.9\n",
       "20391661 2015-06-25 13:24:39.133  1.04709  1.05177       -46.8\n",
       "20391662 2015-06-25 13:24:39.133  1.04714  1.05177       -46.3\n",
       "20391663 2015-06-25 13:24:39.133  1.04713  1.05177       -46.4\n",
       "20391664 2015-06-25 13:24:39.133  1.04706  1.05177       -47.1\n",
       "20391665 2015-06-25 13:24:39.133  1.04715  1.05177       -46.2\n",
       "20391666 2015-06-25 13:24:39.133  1.04667  1.05177       -51.0\n",
       "20391667 2015-06-25 13:24:39.133  1.04666  1.05177       -51.1\n",
       "20391668 2015-06-25 13:24:46.443  1.04666  1.05174       -50.8\n",
       "20391669 2015-06-25 13:24:46.443  1.04661  1.05174       -51.3\n",
       "20391670 2015-06-25 13:24:46.443  1.04676  1.05174       -49.8\n",
       "20391671 2015-06-25 13:24:47.371  1.04676  1.05175       -49.9\n",
       "20391672 2015-06-25 13:24:47.371  1.04675  1.05175       -50.0\n",
       "20391673 2015-06-25 13:24:47.371  1.04681  1.05175       -49.4\n",
       "20391674 2015-06-25 13:24:47.371  1.04685  1.05175       -49.0\n",
       "...                          ...      ...      ...         ...\n",
       "20690106 2015-07-01 14:22:53.771  1.04451  1.04921       -47.0\n",
       "20690107 2015-07-01 14:22:54.221  1.04451  1.04919       -46.8\n",
       "20690108 2015-07-01 14:22:55.092  1.04451  1.04920       -46.9\n",
       "20690109 2015-07-01 14:22:55.978  1.04451  1.04922       -47.1\n",
       "20690110 2015-07-01 14:22:55.978  1.04453  1.04922       -46.9\n",
       "20690111 2015-07-01 14:22:56.420  1.04453  1.04925       -47.2\n",
       "20690112 2015-07-01 14:22:56.420  1.04451  1.04925       -47.4\n",
       "20690113 2015-07-01 14:22:56.856  1.04451  1.04927       -47.6\n",
       "20690114 2015-07-01 14:22:56.856  1.04452  1.04927       -47.5\n",
       "20690115 2015-07-01 14:22:57.306  1.04452  1.04929       -47.7\n",
       "20690116 2015-07-01 14:22:58.174  1.04452  1.04930       -47.8\n",
       "20690117 2015-07-01 14:22:59.055  1.04452  1.04931       -47.9\n",
       "20690118 2015-07-01 14:22:59.508  1.04452  1.04930       -47.8\n",
       "20690119 2015-07-01 14:22:59.508  1.04448  1.04930       -48.2\n",
       "20690120 2015-07-01 14:22:59.508  1.04450  1.04930       -48.0\n",
       "20690121 2015-07-01 14:23:00.383  1.04450  1.04927       -47.7\n",
       "20690122 2015-07-01 14:23:00.383  1.04451  1.04927       -47.6\n",
       "20690123 2015-07-01 14:23:00.826  1.04451  1.04930       -47.9\n",
       "20690124 2015-07-01 14:23:01.260  1.04449  1.04931       -48.2\n",
       "20690125 2015-07-01 14:23:01.260  1.04445  1.04931       -48.6\n",
       "20690126 2015-07-01 14:23:02.158  1.04445  1.04924       -47.9\n",
       "20690127 2015-07-01 14:23:02.632  1.04445  1.04913       -46.8\n",
       "20690128 2015-07-01 14:23:03.096  1.04445  1.04912       -46.7\n",
       "20690129 2015-07-01 14:23:03.546  1.04445  1.04914       -46.9\n",
       "20690130 2015-07-01 14:23:04.000  1.04445  1.04908       -46.3\n",
       "20690131 2015-07-01 14:23:04.456  1.04445  1.04913       -46.8\n",
       "20690132 2015-07-01 14:23:04.909  1.04445  1.04912       -46.7\n",
       "20690133 2015-07-01 14:23:05.361  1.04445  1.04910       -46.5\n",
       "20690134 2015-07-01 14:23:05.811  1.04445  1.04907       -46.2\n",
       "20690135 2015-07-01 14:23:05.811  1.04444  1.04907       -46.3\n",
       "\n",
       "[100 rows x 4 columns]"
      ]
     },
     "execution_count": 12,
     "metadata": {},
     "output_type": "execute_result"
    }
   ],
   "source": [
    "neg45.head(100)"
   ]
  },
  {
   "cell_type": "code",
   "execution_count": null,
   "metadata": {
    "collapsed": false
   },
   "outputs": [],
   "source": []
  },
  {
   "cell_type": "code",
   "execution_count": null,
   "metadata": {
    "collapsed": false
   },
   "outputs": [],
   "source": []
  },
  {
   "cell_type": "code",
   "execution_count": null,
   "metadata": {
    "collapsed": true
   },
   "outputs": [],
   "source": []
  }
 ],
 "metadata": {
  "kernelspec": {
   "display_name": "Python 2",
   "language": "python",
   "name": "python2"
  },
  "language_info": {
   "codemirror_mode": {
    "name": "ipython",
    "version": 2
   },
   "file_extension": ".py",
   "mimetype": "text/x-python",
   "name": "python",
   "nbconvert_exporter": "python",
   "pygments_lexer": "ipython2",
   "version": "2.7.10"
  }
 },
 "nbformat": 4,
 "nbformat_minor": 0
}
