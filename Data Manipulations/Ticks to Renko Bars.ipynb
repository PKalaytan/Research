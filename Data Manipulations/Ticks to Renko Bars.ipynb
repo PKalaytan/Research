{
 "cells": [
  {
   "cell_type": "markdown",
   "metadata": {},
   "source": [
    "@author: p@kalaytan.com\n",
    "\n",
    "This is completed notepad.\n",
    "Steps:\n",
    "1. download tick data\n",
    "2. convert from ticks to renko bars\n",
    "3. convert to Pandas DataFrames\n",
    "4. plot using plotly"
   ]
  },
  {
   "cell_type": "markdown",
   "metadata": {},
   "source": [
    "# Download Ticks\n",
    "I'm using [findatapy](https://github.com/cuemacro/findatapy) for downloading\n"
   ]
  },
  {
   "cell_type": "code",
   "execution_count": 1,
   "metadata": {
    "collapsed": true
   },
   "outputs": [],
   "source": [
    "import sys\n",
    "try:\n",
    "    sys.path.append('C:/Python/findatapy')\n",
    "except:\n",
    "    pass\n",
    "from findatapy.market import Market, MarketDataRequest, MarketDataGenerator"
   ]
  },
  {
   "cell_type": "code",
   "execution_count": 2,
   "metadata": {
    "collapsed": true
   },
   "outputs": [],
   "source": [
    "# download and return requested data \n",
    "# returns: pandas series with ticks\n",
    "def download_data(start_date, finish_date, ticker):\n",
    "    md_request = MarketDataRequest(start_date=start_date, finish_date=finish_date,\n",
    "                                   category='fx', fields=['bid', 'ask'], freq='tick',\n",
    "                                   data_source='dukascopy', tickers=[ticker])\n",
    "    market = Market(market_data_generator=MarketDataGenerator())\n",
    "    return market.fetch_market(md_request)"
   ]
  },
  {
   "cell_type": "code",
   "execution_count": 3,
   "metadata": {
    "collapsed": false
   },
   "outputs": [
    {
     "name": "stdout",
     "output_type": "stream",
     "text": [
      "2016-12-19 19:19:23,161 - findatapy.market.datavendorweb - INFO - Request Dukascopy data\n",
      "2016-12-19 19:19:23,162 - findatapy.market.datavendorweb - INFO - About to download from Dukascopy... for EURCHF\n",
      "2016-12-19 19:19:23,163 - findatapy.market.datavendorweb - INFO - Downloading... 2016-01-01 00:00:00\n",
      "2016-12-19 19:19:29,037 - findatapy.market.datavendorweb - INFO - Downloading... 2016-01-02 00:00:00\n",
      "2016-12-19 19:19:34,548 - findatapy.market.datavendorweb - INFO - Downloading... 2016-01-03 00:00:00\n",
      "2016-12-19 19:19:40,634 - findatapy.market.datavendorweb - INFO - Downloading... 2016-01-04 00:00:00\n",
      "2016-12-19 19:19:47,133 - findatapy.market.datavendorweb - INFO - Downloading... 2016-01-05 00:00:00\n",
      "2016-12-19 19:19:53,218 - findatapy.market.datavendorweb - INFO - Downloading... 2016-01-06 00:00:00\n",
      "2016-12-19 19:19:56,984 - findatapy.market.datavendorweb - INFO - Downloading... 2016-01-07 00:00:00\n",
      "2016-12-19 19:20:00,774 - findatapy.market.datavendorweb - INFO - Downloading... 2016-01-08 00:00:00\n",
      "2016-12-19 19:20:06,324 - findatapy.market.datavendorweb - INFO - Downloading... 2016-01-09 00:00:00\n",
      "2016-12-19 19:20:12,912 - findatapy.market.datavendorweb - INFO - Downloading... 2016-01-10 00:00:00\n",
      "2016-12-19 19:20:19,742 - findatapy.market.datavendorweb - INFO - Downloading... 2016-01-11 00:00:00\n",
      "2016-12-19 19:20:26,802 - findatapy.market.datavendorweb - INFO - Downloading... 2016-01-12 00:00:00\n",
      "2016-12-19 19:20:32,581 - findatapy.market.datavendorweb - INFO - Downloading... 2016-01-13 00:00:00\n",
      "2016-12-19 19:20:36,286 - findatapy.market.datavendorweb - INFO - Downloading... 2016-01-14 00:00:00\n",
      "2016-12-19 19:20:40,113 - findatapy.market.datavendorweb - INFO - Downloading... 2016-01-15 00:00:00\n",
      "2016-12-19 19:20:45,734 - findatapy.market.datavendorweb - INFO - Downloading... 2016-01-16 00:00:00\n",
      "2016-12-19 19:20:51,362 - findatapy.market.datavendorweb - INFO - Downloading... 2016-01-17 00:00:00\n",
      "2016-12-19 19:20:57,129 - findatapy.market.datavendorweb - INFO - Downloading... 2016-01-18 00:00:00\n",
      "2016-12-19 19:21:02,982 - findatapy.market.datavendorweb - INFO - Downloading... 2016-01-19 00:00:00\n",
      "2016-12-19 19:21:08,381 - findatapy.market.datavendorweb - INFO - Downloading... 2016-01-20 00:00:00\n",
      "2016-12-19 19:21:12,163 - findatapy.market.datavendorweb - INFO - Downloading... 2016-01-21 00:00:00\n",
      "2016-12-19 19:21:16,083 - findatapy.market.datavendorweb - INFO - Downloading... 2016-01-22 00:00:00\n",
      "2016-12-19 19:21:21,758 - findatapy.market.datavendorweb - INFO - Downloading... 2016-01-23 00:00:00\n",
      "2016-12-19 19:21:27,919 - findatapy.market.datavendorweb - INFO - Downloading... 2016-01-24 00:00:00\n",
      "2016-12-19 19:21:34,181 - findatapy.market.datavendorweb - INFO - Downloading... 2016-01-25 00:00:00\n",
      "2016-12-19 19:21:40,067 - findatapy.market.datavendorweb - INFO - Downloading... 2016-01-26 00:00:00\n",
      "2016-12-19 19:21:45,943 - findatapy.market.datavendorweb - INFO - Downloading... 2016-01-27 00:00:00\n",
      "2016-12-19 19:21:49,641 - findatapy.market.datavendorweb - INFO - Downloading... 2016-01-28 00:00:00\n",
      "2016-12-19 19:21:53,860 - findatapy.market.datavendorweb - INFO - Downloading... 2016-01-29 00:00:00\n",
      "2016-12-19 19:21:59,461 - findatapy.market.datavendorweb - INFO - Downloading... 2016-01-30 00:00:00\n",
      "2016-12-19 19:22:03,898 - findatapy.market.datavendorweb - INFO - Completed request from Dukascopy\n"
     ]
    }
   ],
   "source": [
    "ticks = download_data('1 Jan 2016', '31 Jan 2016', 'EURCHF')"
   ]
  },
  {
   "cell_type": "code",
   "execution_count": 4,
   "metadata": {
    "collapsed": false
   },
   "outputs": [
    {
     "data": {
      "text/plain": [
       "Date\n",
       "2016-01-01 00:00:01.265    1.109120\n",
       "2016-01-01 00:00:01.572    1.109100\n",
       "2016-01-01 00:00:01.881    1.109085\n",
       "dtype: float32"
      ]
     },
     "execution_count": 4,
     "metadata": {},
     "output_type": "execute_result"
    }
   ],
   "source": [
    "#Let's see what we have\n",
    "ticks.head(3)"
   ]
  },
  {
   "cell_type": "markdown",
   "metadata": {},
   "source": [
    "# Convert Ticks to Renko bars\n",
    "To prevent some popular misunderstandings, I've created <strong><u>renko bars with ticks and reverse candles</u></strong>"
   ]
  },
  {
   "cell_type": "code",
   "execution_count": 5,
   "metadata": {
    "collapsed": true
   },
   "outputs": [],
   "source": [
    "# market and renko var settings\n",
    "point = 0.00001 \n",
    "digits = 5\n",
    "renko_size = 100 # the size of the renko we would like to have\n",
    "renko_sizeFloat = renko_size * point"
   ]
  },
  {
   "cell_type": "code",
   "execution_count": 6,
   "metadata": {
    "collapsed": true
   },
   "outputs": [],
   "source": [
    "# getting low and high borders for \n",
    "# in: float - price \n",
    "# out: float, float  - hi and low for renko bar for give price\n",
    "def get_renko_borders(tick):\n",
    "    low = tick - tick % renko_sizeFloat\n",
    "    hi = round(low + renko_sizeFloat, digits)\n",
    "    #print (\"tick:{}. hi:{:.5f}. low:{:.5f}\".format(tick, hi, low))\n",
    "    return hi, low"
   ]
  },
  {
   "cell_type": "code",
   "execution_count": 7,
   "metadata": {
    "collapsed": false
   },
   "outputs": [
    {
     "name": "stdout",
     "output_type": "stream",
     "text": [
      "first tick:1.10912, border_high:1.11000, border_low:1.10900\n"
     ]
    }
   ],
   "source": [
    "# get first renko bar border for first tick\n",
    "border_high, border_low = get_renko_borders(ticks[0])\n",
    "print('first tick:{:.5f}, border_high:{:.5f}, border_low:{:.5f}'.format(ticks[0], border_high, border_low))"
   ]
  },
  {
   "cell_type": "code",
   "execution_count": 8,
   "metadata": {
    "collapsed": true
   },
   "outputs": [],
   "source": [
    "# create list where we will hold computed bars\n",
    "# list will hold: [date, open, high, low, close]\n",
    "# don't really need date but saving just in case\n",
    "renko = []\n",
    "\n",
    "# set all(ohlc) values to first tick\n",
    "high = low = open = close = ticks[0]\n",
    "\n",
    "# create first bar with opening tick\n",
    "renko.append([ticks.index[0], ticks[0], ticks[0], ticks[0], ticks[0]])"
   ]
  },
  {
   "cell_type": "code",
   "execution_count": 9,
   "metadata": {
    "collapsed": false
   },
   "outputs": [
    {
     "name": "stdout",
     "output_type": "stream",
     "text": [
      "389\n"
     ]
    }
   ],
   "source": [
    "# loop through each tick\n",
    "for i, tick in enumerate(ticks):\n",
    "    # do we have a bar break? i.e new bar?\n",
    "    if(tick >= border_high or tick < border_low):\n",
    "        # update closed bar with latest values\n",
    "        renko[-1][2] = high\n",
    "        renko[-1][3] = low\n",
    "        renko[-1][4] = ticks[i-1]\n",
    "        \n",
    "        #prep vars for new renko bar\n",
    "        open = high = low = close = tick\n",
    "        \n",
    "        # add new bar to renko list. [date, open, high, low, close] \n",
    "        renko.append([ticks.index[i], open, high, low, close])\n",
    "       \n",
    "        # prep borders for next bar\n",
    "        # if we just closed green candle\n",
    "        if(tick >= border_high):\n",
    "            # get new candle borders for new tick\n",
    "            border_high, border_low = get_renko_borders(open)\n",
    "            # adjust bottom border in case price reverse\n",
    "            border_low -= renko_sizeFloat\n",
    "        # same but opposite\n",
    "        elif(tick < border_low):\n",
    "            border_high, border_low = get_renko_borders(open)\n",
    "            border_high += renko_sizeFloat\n",
    "        \n",
    "    #update high and low variables for new tick \n",
    "    if(tick > high):\n",
    "        high = tick\n",
    "    if(tick < low):\n",
    "        low = tick\n",
    "\n",
    "# set latest values to last bar\n",
    "renko[-1][2] = high\n",
    "renko[-1][3] = low\n",
    "renko[-1][4] = ticks[-1]\n",
    "print(len(renko))"
   ]
  },
  {
   "cell_type": "code",
   "execution_count": 10,
   "metadata": {
    "collapsed": false
   },
   "outputs": [
    {
     "data": {
      "text/plain": [
       "[[Timestamp('2016-01-01 00:00:01.265000'),\n",
       "  1.10912,\n",
       "  1.10922,\n",
       "  1.109015,\n",
       "  1.109015],\n",
       " [Timestamp('2016-01-01 00:00:45.024000'),\n",
       "  1.109,\n",
       "  1.10934,\n",
       "  1.1080201,\n",
       "  1.1080201],\n",
       " [Timestamp('2016-01-01 00:46:34.457000'),\n",
       "  1.107995,\n",
       "  1.1089749,\n",
       "  1.1075799,\n",
       "  1.1089699]]"
      ]
     },
     "execution_count": 10,
     "metadata": {},
     "output_type": "execute_result"
    }
   ],
   "source": [
    "# let's see our list\n",
    "renko[:3]"
   ]
  },
  {
   "cell_type": "markdown",
   "metadata": {},
   "source": [
    "# Convert to Pandas DataFrames"
   ]
  },
  {
   "cell_type": "code",
   "execution_count": 11,
   "metadata": {
    "collapsed": true
   },
   "outputs": [],
   "source": [
    "import pandas"
   ]
  },
  {
   "cell_type": "code",
   "execution_count": 12,
   "metadata": {
    "collapsed": false
   },
   "outputs": [
    {
     "name": "stdout",
     "output_type": "stream",
     "text": [
      "<class 'pandas.core.frame.DataFrame'>\n",
      "DatetimeIndex: 389 entries, 2016-01-01 00:00:01.265000 to 2016-01-29 20:53:12.439000\n",
      "Data columns (total 4 columns):\n",
      "open     389 non-null float64\n",
      "high     389 non-null float64\n",
      "low      389 non-null float64\n",
      "close    389 non-null float64\n",
      "dtypes: float64(4)\n",
      "memory usage: 15.2 KB\n"
     ]
    }
   ],
   "source": [
    "# prep columns tuple\n",
    "columns = ('date', 'open', 'high', 'low', 'close')\n",
    "df = pandas.DataFrame(renko, columns=columns)\n",
    "\n",
    "# make our date column index\n",
    "df.set_index(['date'], inplace = True, drop = True)\n",
    "df.info()"
   ]
  },
  {
   "cell_type": "code",
   "execution_count": 13,
   "metadata": {
    "collapsed": false
   },
   "outputs": [
    {
     "data": {
      "text/html": [
       "<div>\n",
       "<table border=\"1\" class=\"dataframe\">\n",
       "  <thead>\n",
       "    <tr style=\"text-align: right;\">\n",
       "      <th></th>\n",
       "      <th>open</th>\n",
       "      <th>high</th>\n",
       "      <th>low</th>\n",
       "      <th>close</th>\n",
       "    </tr>\n",
       "    <tr>\n",
       "      <th>date</th>\n",
       "      <th></th>\n",
       "      <th></th>\n",
       "      <th></th>\n",
       "      <th></th>\n",
       "    </tr>\n",
       "  </thead>\n",
       "  <tbody>\n",
       "    <tr>\n",
       "      <th>2016-01-01 00:00:01.265</th>\n",
       "      <td>1.109120</td>\n",
       "      <td>1.109220</td>\n",
       "      <td>1.109015</td>\n",
       "      <td>1.109015</td>\n",
       "    </tr>\n",
       "    <tr>\n",
       "      <th>2016-01-01 00:00:45.024</th>\n",
       "      <td>1.109000</td>\n",
       "      <td>1.109340</td>\n",
       "      <td>1.108020</td>\n",
       "      <td>1.108020</td>\n",
       "    </tr>\n",
       "    <tr>\n",
       "      <th>2016-01-01 00:46:34.457</th>\n",
       "      <td>1.107995</td>\n",
       "      <td>1.108975</td>\n",
       "      <td>1.107580</td>\n",
       "      <td>1.108970</td>\n",
       "    </tr>\n",
       "    <tr>\n",
       "      <th>2016-01-01 07:07:08.767</th>\n",
       "      <td>1.109005</td>\n",
       "      <td>1.109070</td>\n",
       "      <td>1.108000</td>\n",
       "      <td>1.108000</td>\n",
       "    </tr>\n",
       "    <tr>\n",
       "      <th>2016-01-01 07:38:31.855</th>\n",
       "      <td>1.107965</td>\n",
       "      <td>1.108980</td>\n",
       "      <td>1.107675</td>\n",
       "      <td>1.108980</td>\n",
       "    </tr>\n",
       "  </tbody>\n",
       "</table>\n",
       "</div>"
      ],
      "text/plain": [
       "                             open      high       low     close\n",
       "date                                                           \n",
       "2016-01-01 00:00:01.265  1.109120  1.109220  1.109015  1.109015\n",
       "2016-01-01 00:00:45.024  1.109000  1.109340  1.108020  1.108020\n",
       "2016-01-01 00:46:34.457  1.107995  1.108975  1.107580  1.108970\n",
       "2016-01-01 07:07:08.767  1.109005  1.109070  1.108000  1.108000\n",
       "2016-01-01 07:38:31.855  1.107965  1.108980  1.107675  1.108980"
      ]
     },
     "execution_count": 13,
     "metadata": {},
     "output_type": "execute_result"
    }
   ],
   "source": [
    "df.head(5)"
   ]
  },
  {
   "cell_type": "code",
   "execution_count": 14,
   "metadata": {
    "collapsed": false
   },
   "outputs": [
    {
     "name": "stdout",
     "output_type": "stream",
     "text": [
      "First tick = 1.10912 == 1.10912 = first bar open price\n",
      "Last tick = 1.08639 == 1.08639 = last bar close price\n"
     ]
    }
   ],
   "source": [
    "# we can see our fist tick == to open of first bar\n",
    "print(\"First tick = {:.5f} == {:.5f} = first bar open price\".format(ticks[0], df.open[0]))\n",
    "# last tick\n",
    "print(\"Last tick = {:.5f} == {:.5f} = last bar close price\".format(ticks[-1], df.close[-1]))\n"
   ]
  },
  {
   "cell_type": "markdown",
   "metadata": {},
   "source": [
    "# Plot Renko Bars using Plotly"
   ]
  },
  {
   "cell_type": "code",
   "execution_count": 15,
   "metadata": {
    "collapsed": false
   },
   "outputs": [],
   "source": [
    "import plotly.plotly as py\n",
    "py.sign_in('username', 'key') # get yours at plot.ly\n",
    "from plotly.tools import FigureFactory as FF"
   ]
  },
  {
   "cell_type": "code",
   "execution_count": 16,
   "metadata": {
    "collapsed": false
   },
   "outputs": [
    {
     "data": {
      "text/html": [
       "<iframe id=\"igraph\" scrolling=\"no\" style=\"border:none;\" seamless=\"seamless\" src=\"https://plot.ly/~Kalaytan/2.embed\" height=\"525px\" width=\"100%\"></iframe>"
      ],
      "text/plain": [
       "<plotly.tools.PlotlyDisplay object>"
      ]
     },
     "execution_count": 16,
     "metadata": {},
     "output_type": "execute_result"
    }
   ],
   "source": [
    "# if we want to use date, add dates=df.index\n",
    "fig = FF.create_candlestick(df.open, df.high, df.low, df.close)\n",
    "fig['layout'].update({'title':'{} points EURCHF RENKO BARS'.format(renko_size)})\n",
    "py.iplot(fig, filename='Renko - EURCHF - 100 points', validate= False)"
   ]
  },
  {
   "cell_type": "code",
   "execution_count": null,
   "metadata": {
    "collapsed": true
   },
   "outputs": [],
   "source": [
    "# url to the chart: https://plot.ly/~Kalaytan/2.embed"
   ]
  },
  {
   "cell_type": "code",
   "execution_count": 17,
   "metadata": {
    "collapsed": false
   },
   "outputs": [
    {
     "data": {
      "text/html": [
       "<iframe id=\"igraph\" scrolling=\"no\" style=\"border:none;\" seamless=\"seamless\" src=\"https://plot.ly/~Kalaytan/4.embed\" height=\"525px\" width=\"100%\"></iframe>"
      ],
      "text/plain": [
       "<plotly.tools.PlotlyDisplay object>"
      ]
     },
     "execution_count": 17,
     "metadata": {},
     "output_type": "execute_result"
    }
   ],
   "source": [
    "# we could plot tics to triple check. We have to many ticks so I'll plot last 10k ticks.\n",
    "import plotly.graph_objs as go\n",
    "trace = go.Scatter(x=ticks.index[-10000:], y=ticks.values[-10000:])\n",
    "py.iplot([trace], filename='EURCHF - Ticks')"
   ]
  }
 ],
 "metadata": {
  "anaconda-cloud": {},
  "celltoolbar": "Edit Metadata",
  "kernelspec": {
   "display_name": "Python [conda root]",
   "language": "python",
   "name": "conda-root-py"
  },
  "language_info": {
   "codemirror_mode": {
    "name": "ipython",
    "version": 3
   },
   "file_extension": ".py",
   "mimetype": "text/x-python",
   "name": "python",
   "nbconvert_exporter": "python",
   "pygments_lexer": "ipython3",
   "version": "3.5.2"
  }
 },
 "nbformat": 4,
 "nbformat_minor": 1
}
