{
 "cells": [
  {
   "cell_type": "markdown",
   "metadata": {},
   "source": [
    "# Research of cAlgo exported TICK data"
   ]
  },
  {
   "cell_type": "markdown",
   "metadata": {},
   "source": [
    "### Extracting from cAlgo\n",
    "used this cBot to export data: http://ctdn.com/algos/cbots/show/588\n",
    "\n",
    "had to change c# code slightly to extract Bid & Ask but not from depth.<br>\n",
    "logic: when backtesting on cAlgo, it uses Bid & Ask without knowledge of depth<br>\n",
    "also: <strong>spread</strong> is simple ASK - BID calculation performed during export"
   ]
  },
  {
   "cell_type": "markdown",
   "metadata": {},
   "source": [
    "## Python Code:"
   ]
  },
  {
   "cell_type": "code",
   "execution_count": 15,
   "metadata": {
    "collapsed": false
   },
   "outputs": [],
   "source": [
    "import pandas as pd\n",
    "import numpy as np\n",
    "import datetime \n",
    "import matplotlib.pyplot as plt\n",
    "import seaborn as sns\n",
    "%matplotlib inline"
   ]
  },
  {
   "cell_type": "code",
   "execution_count": 16,
   "metadata": {
    "collapsed": false,
    "scrolled": true
   },
   "outputs": [
    {
     "name": "stdout",
     "output_type": "stream",
     "text": [
      "../data/GBPUSD-ticks.csv\n"
     ]
    }
   ],
   "source": [
    "### creating inputs:\n",
    "pair = \"GBPUSD\"\n",
    "\n",
    "folder = \"../data/\"\n",
    "csv = folder + pair +'-ticks.csv'\n",
    "\n",
    "print csv"
   ]
  },
  {
   "cell_type": "markdown",
   "metadata": {},
   "source": [
    "content of csv file:\n",
    "\n",
    "date,ask,bid,spread<br>\n",
    "2013-04-26 15:16:54.372,1.226800,1.226670,0.000130<br>\n",
    "2013-04-26 15:16:54.583,1.226820,1.226690,0.000130<br>\n",
    "2013-04-26 15:16:54.583,1.226810,1.226690,0.000120\n"
   ]
  },
  {
   "cell_type": "code",
   "execution_count": 17,
   "metadata": {
    "collapsed": false
   },
   "outputs": [],
   "source": [
    "### Importing csv file\n",
    "\n",
    "usecols = ['date', 'ask', 'bid']\n",
    "#dtypes = {'date':pd.tslib.Timestamp, 'ask':np.float32, 'bid':np.float32, }\n",
    "data = pd.read_csv(csv,\n",
    "                   header = False,\n",
    "                   usecols = usecols,\n",
    "                   #dtype=dtypes,\n",
    "                   parse_dates=['date']\n",
    "                   #date_parser = dateparse\n",
    "                   )\n",
    "\n",
    "\n"
   ]
  },
  {
   "cell_type": "code",
   "execution_count": 18,
   "metadata": {
    "collapsed": false
   },
   "outputs": [],
   "source": [
    "### compute spread and convert to pips (not points)\n",
    "data['spreadPips'] = (data.ask - data.bid)*10000"
   ]
  },
  {
   "cell_type": "code",
   "execution_count": 19,
   "metadata": {
    "collapsed": false
   },
   "outputs": [
    {
     "data": {
      "text/html": [
       "<div>\n",
       "<table border=\"1\" class=\"dataframe\">\n",
       "  <thead>\n",
       "    <tr style=\"text-align: right;\">\n",
       "      <th></th>\n",
       "      <th>date</th>\n",
       "      <th>ask</th>\n",
       "      <th>bid</th>\n",
       "      <th>spreadPips</th>\n",
       "    </tr>\n",
       "  </thead>\n",
       "  <tbody>\n",
       "    <tr>\n",
       "      <th>0</th>\n",
       "      <td>2013-04-26 15:09:14.405</td>\n",
       "      <td>1.54854</td>\n",
       "      <td>1.54852</td>\n",
       "      <td>0.2</td>\n",
       "    </tr>\n",
       "    <tr>\n",
       "      <th>1</th>\n",
       "      <td>2013-04-26 15:09:14.617</td>\n",
       "      <td>1.54851</td>\n",
       "      <td>1.54848</td>\n",
       "      <td>0.3</td>\n",
       "    </tr>\n",
       "    <tr>\n",
       "      <th>2</th>\n",
       "      <td>2013-04-26 15:09:15.124</td>\n",
       "      <td>1.54851</td>\n",
       "      <td>1.54847</td>\n",
       "      <td>0.4</td>\n",
       "    </tr>\n",
       "    <tr>\n",
       "      <th>3</th>\n",
       "      <td>2013-04-26 15:09:15.124</td>\n",
       "      <td>1.54848</td>\n",
       "      <td>1.54847</td>\n",
       "      <td>0.1</td>\n",
       "    </tr>\n",
       "    <tr>\n",
       "      <th>4</th>\n",
       "      <td>2013-04-26 15:09:21.919</td>\n",
       "      <td>1.54847</td>\n",
       "      <td>1.54846</td>\n",
       "      <td>0.1</td>\n",
       "    </tr>\n",
       "  </tbody>\n",
       "</table>\n",
       "</div>"
      ],
      "text/plain": [
       "                     date      ask      bid  spreadPips\n",
       "0 2013-04-26 15:09:14.405  1.54854  1.54852         0.2\n",
       "1 2013-04-26 15:09:14.617  1.54851  1.54848         0.3\n",
       "2 2013-04-26 15:09:15.124  1.54851  1.54847         0.4\n",
       "3 2013-04-26 15:09:15.124  1.54848  1.54847         0.1\n",
       "4 2013-04-26 15:09:21.919  1.54847  1.54846         0.1"
      ]
     },
     "execution_count": 19,
     "metadata": {},
     "output_type": "execute_result"
    }
   ],
   "source": [
    "#display what we have\n",
    "data.head()"
   ]
  },
  {
   "cell_type": "markdown",
   "metadata": {},
   "source": [
    "## Interesting bit:"
   ]
  },
  {
   "cell_type": "code",
   "execution_count": 20,
   "metadata": {
    "collapsed": false
   },
   "outputs": [],
   "source": [
    "###copy all negative spreads\n",
    "neg = data[data.spreadPips < 0]"
   ]
  },
  {
   "cell_type": "code",
   "execution_count": 21,
   "metadata": {
    "collapsed": false
   },
   "outputs": [
    {
     "name": "stdout",
     "output_type": "stream",
     "text": [
      "So we have 1,548,876 records with negative Spread!\n"
     ]
    }
   ],
   "source": [
    "many = '{0:,}'.format(neg.spreadPips.count())\n",
    "print \"So we have %s records with negative Spread!\"  %many"
   ]
  },
  {
   "cell_type": "markdown",
   "metadata": {},
   "source": [
    "# So many ticks with negative spread?!?"
   ]
  },
  {
   "cell_type": "code",
   "execution_count": 22,
   "metadata": {
    "collapsed": false,
    "scrolled": true
   },
   "outputs": [
    {
     "data": {
      "text/plain": [
       "(array([  6.00000000e+00,   9.80000000e+01,   3.36000000e+02,\n",
       "          6.46000000e+02,   1.20000000e+03,   1.48100000e+03,\n",
       "          7.30400000e+03,   1.55510000e+04,   7.92710000e+04,\n",
       "          1.44298300e+06]),\n",
       " array([ -1.12900000e+02,  -1.01620000e+02,  -9.03400000e+01,\n",
       "         -7.90600000e+01,  -6.77800000e+01,  -5.65000000e+01,\n",
       "         -4.52200000e+01,  -3.39400000e+01,  -2.26600000e+01,\n",
       "         -1.13800000e+01,  -1.00000000e-01]),\n",
       " <a list of 10 Patch objects>)"
      ]
     },
     "execution_count": 22,
     "metadata": {},
     "output_type": "execute_result"
    },
    {
     "data": {
      "image/png": "[encoded data removed]",
      "text/plain": [
       "<matplotlib.figure.Figure at 0x1bc568d0>"
      ]
     },
     "metadata": {},
     "output_type": "display_data"
    }
   ],
   "source": [
    "plt.hist(neg.spreadPips.values, bins = 10)"
   ]
  },
  {
   "cell_type": "markdown",
   "metadata": {},
   "source": [
    "## Let's zoomin on numbers below -20pip"
   ]
  },
  {
   "cell_type": "code",
   "execution_count": 23,
   "metadata": {
    "collapsed": false
   },
   "outputs": [
    {
     "data": {
      "text/plain": [
       "(array([  6.00000000e+00,   5.30000000e+01,   2.20000000e+02,\n",
       "          2.47000000e+02,   7.67000000e+02,   9.29000000e+02,\n",
       "          9.06000000e+02,   3.47100000e+03,   9.33300000e+03,\n",
       "          1.83010000e+04]),\n",
       " array([-112.9 , -103.61,  -94.32,  -85.03,  -75.74,  -66.45,  -57.16,\n",
       "         -47.87,  -38.58,  -29.29,  -20.  ]),\n",
       " <a list of 10 Patch objects>)"
      ]
     },
     "execution_count": 23,
     "metadata": {},
     "output_type": "execute_result"
    },
    {
     "data": {
      "image/png": "[encoded data removed]",
      "text/plain": [
       "<matplotlib.figure.Figure at 0x8fba6320>"
      ]
     },
     "metadata": {},
     "output_type": "display_data"
    }
   ],
   "source": [
    "neg1 = neg[neg.spreadPips < -20]\n",
    "plt.hist(neg1.spreadPips.values)"
   ]
  },
  {
   "cell_type": "markdown",
   "metadata": {},
   "source": [
    "## Lets zoomin below -50 pips (not points)"
   ]
  },
  {
   "cell_type": "code",
   "execution_count": 24,
   "metadata": {
    "collapsed": false
   },
   "outputs": [
    {
     "data": {
      "text/plain": [
       "(array([   2.,   13.,   45.,  137.,  184.,  174.,  397.,  775.,  578.,  526.]),\n",
       " array([-112.9 , -106.61, -100.32,  -94.03,  -87.74,  -81.45,  -75.16,\n",
       "         -68.87,  -62.58,  -56.29,  -50.  ]),\n",
       " <a list of 10 Patch objects>)"
      ]
     },
     "execution_count": 24,
     "metadata": {},
     "output_type": "execute_result"
    },
    {
     "data": {
      "image/png": "[encoded data removed]",
      "text/plain": [
       "<matplotlib.figure.Figure at 0x4dcd2710>"
      ]
     },
     "metadata": {},
     "output_type": "display_data"
    }
   ],
   "source": [
    "neg2 = neg[neg.spreadPips < -50]\n",
    "plt.hist(neg2.spreadPips.values)"
   ]
  },
  {
   "cell_type": "markdown",
   "metadata": {},
   "source": [
    "# Lets see entries for below -100 pips!"
   ]
  },
  {
   "cell_type": "code",
   "execution_count": 35,
   "metadata": {
    "collapsed": false
   },
   "outputs": [
    {
     "name": "stdout",
     "output_type": "stream",
     "text": [
      "We have 117 ticks with spread below -100 pips! \n"
     ]
    }
   ],
   "source": [
    "neg3 = neg[neg.spreadPips < -90]\n",
    "print \"We have %s ticks with spread below -100 pips! \" %neg3.spreadPips.count()\n"
   ]
  },
  {
   "cell_type": "code",
   "execution_count": 36,
   "metadata": {
    "collapsed": false
   },
   "outputs": [
    {
     "data": {
      "text/html": [
       "<div>\n",
       "<table border=\"1\" class=\"dataframe\">\n",
       "  <thead>\n",
       "    <tr style=\"text-align: right;\">\n",
       "      <th></th>\n",
       "      <th>date</th>\n",
       "      <th>ask</th>\n",
       "      <th>bid</th>\n",
       "      <th>spreadPips</th>\n",
       "    </tr>\n",
       "  </thead>\n",
       "  <tbody>\n",
       "    <tr>\n",
       "      <th>25820415</th>\n",
       "      <td>2015-06-03 08:25:25.874</td>\n",
       "      <td>1.52630</td>\n",
       "      <td>1.53536</td>\n",
       "      <td>-90.6</td>\n",
       "    </tr>\n",
       "    <tr>\n",
       "      <th>26041161</th>\n",
       "      <td>2015-06-05 12:07:03.798</td>\n",
       "      <td>1.52356</td>\n",
       "      <td>1.53262</td>\n",
       "      <td>-90.6</td>\n",
       "    </tr>\n",
       "    <tr>\n",
       "      <th>26041196</th>\n",
       "      <td>2015-06-05 12:07:14.883</td>\n",
       "      <td>1.52283</td>\n",
       "      <td>1.53254</td>\n",
       "      <td>-97.1</td>\n",
       "    </tr>\n",
       "    <tr>\n",
       "      <th>26041197</th>\n",
       "      <td>2015-06-05 12:07:14.883</td>\n",
       "      <td>1.52341</td>\n",
       "      <td>1.53254</td>\n",
       "      <td>-91.3</td>\n",
       "    </tr>\n",
       "    <tr>\n",
       "      <th>26041198</th>\n",
       "      <td>2015-06-05 12:07:15.694</td>\n",
       "      <td>1.52341</td>\n",
       "      <td>1.53256</td>\n",
       "      <td>-91.5</td>\n",
       "    </tr>\n",
       "    <tr>\n",
       "      <th>26041208</th>\n",
       "      <td>2015-06-05 12:07:18.576</td>\n",
       "      <td>1.52270</td>\n",
       "      <td>1.53254</td>\n",
       "      <td>-98.4</td>\n",
       "    </tr>\n",
       "    <tr>\n",
       "      <th>26041209</th>\n",
       "      <td>2015-06-05 12:07:19.383</td>\n",
       "      <td>1.52270</td>\n",
       "      <td>1.53260</td>\n",
       "      <td>-99.0</td>\n",
       "    </tr>\n",
       "    <tr>\n",
       "      <th>26041210</th>\n",
       "      <td>2015-06-05 12:07:19.383</td>\n",
       "      <td>1.52273</td>\n",
       "      <td>1.53260</td>\n",
       "      <td>-98.7</td>\n",
       "    </tr>\n",
       "    <tr>\n",
       "      <th>26041211</th>\n",
       "      <td>2015-06-05 12:07:19.817</td>\n",
       "      <td>1.52273</td>\n",
       "      <td>1.53258</td>\n",
       "      <td>-98.5</td>\n",
       "    </tr>\n",
       "    <tr>\n",
       "      <th>26041212</th>\n",
       "      <td>2015-06-05 12:07:19.817</td>\n",
       "      <td>1.52261</td>\n",
       "      <td>1.53258</td>\n",
       "      <td>-99.7</td>\n",
       "    </tr>\n",
       "    <tr>\n",
       "      <th>26041213</th>\n",
       "      <td>2015-06-05 12:07:20.236</td>\n",
       "      <td>1.52261</td>\n",
       "      <td>1.53262</td>\n",
       "      <td>-100.1</td>\n",
       "    </tr>\n",
       "    <tr>\n",
       "      <th>26041214</th>\n",
       "      <td>2015-06-05 12:07:20.236</td>\n",
       "      <td>1.52279</td>\n",
       "      <td>1.53262</td>\n",
       "      <td>-98.3</td>\n",
       "    </tr>\n",
       "    <tr>\n",
       "      <th>26041215</th>\n",
       "      <td>2015-06-05 12:07:20.236</td>\n",
       "      <td>1.52262</td>\n",
       "      <td>1.53262</td>\n",
       "      <td>-100.0</td>\n",
       "    </tr>\n",
       "    <tr>\n",
       "      <th>26041216</th>\n",
       "      <td>2015-06-05 12:07:20.647</td>\n",
       "      <td>1.52262</td>\n",
       "      <td>1.53258</td>\n",
       "      <td>-99.6</td>\n",
       "    </tr>\n",
       "    <tr>\n",
       "      <th>26041217</th>\n",
       "      <td>2015-06-05 12:07:20.647</td>\n",
       "      <td>1.52261</td>\n",
       "      <td>1.53258</td>\n",
       "      <td>-99.7</td>\n",
       "    </tr>\n",
       "    <tr>\n",
       "      <th>26041218</th>\n",
       "      <td>2015-06-05 12:07:21.056</td>\n",
       "      <td>1.52261</td>\n",
       "      <td>1.53255</td>\n",
       "      <td>-99.4</td>\n",
       "    </tr>\n",
       "    <tr>\n",
       "      <th>26041219</th>\n",
       "      <td>2015-06-05 12:07:21.056</td>\n",
       "      <td>1.52249</td>\n",
       "      <td>1.53255</td>\n",
       "      <td>-100.6</td>\n",
       "    </tr>\n",
       "    <tr>\n",
       "      <th>26041220</th>\n",
       "      <td>2015-06-05 12:07:21.056</td>\n",
       "      <td>1.52246</td>\n",
       "      <td>1.53255</td>\n",
       "      <td>-100.9</td>\n",
       "    </tr>\n",
       "    <tr>\n",
       "      <th>26041221</th>\n",
       "      <td>2015-06-05 12:07:21.873</td>\n",
       "      <td>1.52246</td>\n",
       "      <td>1.53256</td>\n",
       "      <td>-101.0</td>\n",
       "    </tr>\n",
       "    <tr>\n",
       "      <th>26041222</th>\n",
       "      <td>2015-06-05 12:07:22.277</td>\n",
       "      <td>1.52246</td>\n",
       "      <td>1.53254</td>\n",
       "      <td>-100.8</td>\n",
       "    </tr>\n",
       "    <tr>\n",
       "      <th>26041223</th>\n",
       "      <td>2015-06-05 12:07:22.277</td>\n",
       "      <td>1.52245</td>\n",
       "      <td>1.53254</td>\n",
       "      <td>-100.9</td>\n",
       "    </tr>\n",
       "    <tr>\n",
       "      <th>26041224</th>\n",
       "      <td>2015-06-05 12:07:22.277</td>\n",
       "      <td>1.52251</td>\n",
       "      <td>1.53254</td>\n",
       "      <td>-100.3</td>\n",
       "    </tr>\n",
       "    <tr>\n",
       "      <th>26041225</th>\n",
       "      <td>2015-06-05 12:07:22.277</td>\n",
       "      <td>1.52252</td>\n",
       "      <td>1.53254</td>\n",
       "      <td>-100.2</td>\n",
       "    </tr>\n",
       "    <tr>\n",
       "      <th>26041226</th>\n",
       "      <td>2015-06-05 12:07:23.884</td>\n",
       "      <td>1.52252</td>\n",
       "      <td>1.53255</td>\n",
       "      <td>-100.3</td>\n",
       "    </tr>\n",
       "    <tr>\n",
       "      <th>26041227</th>\n",
       "      <td>2015-06-05 12:07:23.884</td>\n",
       "      <td>1.52262</td>\n",
       "      <td>1.53255</td>\n",
       "      <td>-99.3</td>\n",
       "    </tr>\n",
       "    <tr>\n",
       "      <th>26041228</th>\n",
       "      <td>2015-06-05 12:07:24.290</td>\n",
       "      <td>1.52262</td>\n",
       "      <td>1.53257</td>\n",
       "      <td>-99.5</td>\n",
       "    </tr>\n",
       "    <tr>\n",
       "      <th>26041229</th>\n",
       "      <td>2015-06-05 12:07:24.290</td>\n",
       "      <td>1.52260</td>\n",
       "      <td>1.53257</td>\n",
       "      <td>-99.7</td>\n",
       "    </tr>\n",
       "    <tr>\n",
       "      <th>26041230</th>\n",
       "      <td>2015-06-05 12:07:24.698</td>\n",
       "      <td>1.52260</td>\n",
       "      <td>1.53259</td>\n",
       "      <td>-99.9</td>\n",
       "    </tr>\n",
       "    <tr>\n",
       "      <th>26041231</th>\n",
       "      <td>2015-06-05 12:07:24.698</td>\n",
       "      <td>1.52263</td>\n",
       "      <td>1.53259</td>\n",
       "      <td>-99.6</td>\n",
       "    </tr>\n",
       "    <tr>\n",
       "      <th>26041232</th>\n",
       "      <td>2015-06-05 12:07:25.107</td>\n",
       "      <td>1.52263</td>\n",
       "      <td>1.53261</td>\n",
       "      <td>-99.8</td>\n",
       "    </tr>\n",
       "    <tr>\n",
       "      <th>...</th>\n",
       "      <td>...</td>\n",
       "      <td>...</td>\n",
       "      <td>...</td>\n",
       "      <td>...</td>\n",
       "    </tr>\n",
       "    <tr>\n",
       "      <th>26041284</th>\n",
       "      <td>2015-06-05 12:07:42.627</td>\n",
       "      <td>1.52270</td>\n",
       "      <td>1.53251</td>\n",
       "      <td>-98.1</td>\n",
       "    </tr>\n",
       "    <tr>\n",
       "      <th>26041285</th>\n",
       "      <td>2015-06-05 12:07:42.627</td>\n",
       "      <td>1.52314</td>\n",
       "      <td>1.53251</td>\n",
       "      <td>-93.7</td>\n",
       "    </tr>\n",
       "    <tr>\n",
       "      <th>26041297</th>\n",
       "      <td>2015-06-05 12:07:47.126</td>\n",
       "      <td>1.52356</td>\n",
       "      <td>1.53256</td>\n",
       "      <td>-90.0</td>\n",
       "    </tr>\n",
       "    <tr>\n",
       "      <th>26041332</th>\n",
       "      <td>2015-06-05 12:07:57.254</td>\n",
       "      <td>1.52353</td>\n",
       "      <td>1.53265</td>\n",
       "      <td>-91.2</td>\n",
       "    </tr>\n",
       "    <tr>\n",
       "      <th>26041333</th>\n",
       "      <td>2015-06-05 12:07:57.656</td>\n",
       "      <td>1.52353</td>\n",
       "      <td>1.53266</td>\n",
       "      <td>-91.3</td>\n",
       "    </tr>\n",
       "    <tr>\n",
       "      <th>26041334</th>\n",
       "      <td>2015-06-05 12:07:57.656</td>\n",
       "      <td>1.52345</td>\n",
       "      <td>1.53266</td>\n",
       "      <td>-92.1</td>\n",
       "    </tr>\n",
       "    <tr>\n",
       "      <th>26041335</th>\n",
       "      <td>2015-06-05 12:07:57.656</td>\n",
       "      <td>1.52357</td>\n",
       "      <td>1.53266</td>\n",
       "      <td>-90.9</td>\n",
       "    </tr>\n",
       "    <tr>\n",
       "      <th>26041336</th>\n",
       "      <td>2015-06-05 12:07:57.656</td>\n",
       "      <td>1.52344</td>\n",
       "      <td>1.53266</td>\n",
       "      <td>-92.2</td>\n",
       "    </tr>\n",
       "    <tr>\n",
       "      <th>26041337</th>\n",
       "      <td>2015-06-05 12:07:57.656</td>\n",
       "      <td>1.52339</td>\n",
       "      <td>1.53266</td>\n",
       "      <td>-92.7</td>\n",
       "    </tr>\n",
       "    <tr>\n",
       "      <th>26041338</th>\n",
       "      <td>2015-06-05 12:07:59.680</td>\n",
       "      <td>1.52339</td>\n",
       "      <td>1.53268</td>\n",
       "      <td>-92.9</td>\n",
       "    </tr>\n",
       "    <tr>\n",
       "      <th>26041339</th>\n",
       "      <td>2015-06-05 12:07:59.680</td>\n",
       "      <td>1.52352</td>\n",
       "      <td>1.53268</td>\n",
       "      <td>-91.6</td>\n",
       "    </tr>\n",
       "    <tr>\n",
       "      <th>26041340</th>\n",
       "      <td>2015-06-05 12:07:59.680</td>\n",
       "      <td>1.52367</td>\n",
       "      <td>1.53268</td>\n",
       "      <td>-90.1</td>\n",
       "    </tr>\n",
       "    <tr>\n",
       "      <th>26041341</th>\n",
       "      <td>2015-06-05 12:07:59.680</td>\n",
       "      <td>1.52348</td>\n",
       "      <td>1.53268</td>\n",
       "      <td>-92.0</td>\n",
       "    </tr>\n",
       "    <tr>\n",
       "      <th>26041342</th>\n",
       "      <td>2015-06-05 12:07:59.680</td>\n",
       "      <td>1.52344</td>\n",
       "      <td>1.53268</td>\n",
       "      <td>-92.4</td>\n",
       "    </tr>\n",
       "    <tr>\n",
       "      <th>26041349</th>\n",
       "      <td>2015-06-05 12:08:02.124</td>\n",
       "      <td>1.52360</td>\n",
       "      <td>1.53267</td>\n",
       "      <td>-90.7</td>\n",
       "    </tr>\n",
       "    <tr>\n",
       "      <th>26041350</th>\n",
       "      <td>2015-06-05 12:08:02.124</td>\n",
       "      <td>1.52366</td>\n",
       "      <td>1.53267</td>\n",
       "      <td>-90.1</td>\n",
       "    </tr>\n",
       "    <tr>\n",
       "      <th>26041351</th>\n",
       "      <td>2015-06-05 12:08:02.124</td>\n",
       "      <td>1.52364</td>\n",
       "      <td>1.53267</td>\n",
       "      <td>-90.3</td>\n",
       "    </tr>\n",
       "    <tr>\n",
       "      <th>26041358</th>\n",
       "      <td>2015-06-05 12:08:05.778</td>\n",
       "      <td>1.52354</td>\n",
       "      <td>1.53266</td>\n",
       "      <td>-91.2</td>\n",
       "    </tr>\n",
       "    <tr>\n",
       "      <th>26041359</th>\n",
       "      <td>2015-06-05 12:08:07.815</td>\n",
       "      <td>1.52354</td>\n",
       "      <td>1.53267</td>\n",
       "      <td>-91.3</td>\n",
       "    </tr>\n",
       "    <tr>\n",
       "      <th>26041360</th>\n",
       "      <td>2015-06-05 12:08:07.815</td>\n",
       "      <td>1.52347</td>\n",
       "      <td>1.53267</td>\n",
       "      <td>-92.0</td>\n",
       "    </tr>\n",
       "    <tr>\n",
       "      <th>26041361</th>\n",
       "      <td>2015-06-05 12:08:08.219</td>\n",
       "      <td>1.52347</td>\n",
       "      <td>1.53269</td>\n",
       "      <td>-92.2</td>\n",
       "    </tr>\n",
       "    <tr>\n",
       "      <th>26041362</th>\n",
       "      <td>2015-06-05 12:08:08.219</td>\n",
       "      <td>1.52345</td>\n",
       "      <td>1.53269</td>\n",
       "      <td>-92.4</td>\n",
       "    </tr>\n",
       "    <tr>\n",
       "      <th>26041363</th>\n",
       "      <td>2015-06-05 12:08:08.219</td>\n",
       "      <td>1.52347</td>\n",
       "      <td>1.53269</td>\n",
       "      <td>-92.2</td>\n",
       "    </tr>\n",
       "    <tr>\n",
       "      <th>26041364</th>\n",
       "      <td>2015-06-05 12:08:08.219</td>\n",
       "      <td>1.52325</td>\n",
       "      <td>1.53269</td>\n",
       "      <td>-94.4</td>\n",
       "    </tr>\n",
       "    <tr>\n",
       "      <th>26041365</th>\n",
       "      <td>2015-06-05 12:08:08.219</td>\n",
       "      <td>1.52319</td>\n",
       "      <td>1.53269</td>\n",
       "      <td>-95.0</td>\n",
       "    </tr>\n",
       "    <tr>\n",
       "      <th>26041366</th>\n",
       "      <td>2015-06-05 12:08:09.834</td>\n",
       "      <td>1.52319</td>\n",
       "      <td>1.53266</td>\n",
       "      <td>-94.7</td>\n",
       "    </tr>\n",
       "    <tr>\n",
       "      <th>26041367</th>\n",
       "      <td>2015-06-05 12:08:10.238</td>\n",
       "      <td>1.52319</td>\n",
       "      <td>1.53265</td>\n",
       "      <td>-94.6</td>\n",
       "    </tr>\n",
       "    <tr>\n",
       "      <th>26041368</th>\n",
       "      <td>2015-06-05 12:08:10.238</td>\n",
       "      <td>1.52317</td>\n",
       "      <td>1.53265</td>\n",
       "      <td>-94.8</td>\n",
       "    </tr>\n",
       "    <tr>\n",
       "      <th>26041369</th>\n",
       "      <td>2015-06-05 12:08:10.238</td>\n",
       "      <td>1.52322</td>\n",
       "      <td>1.53265</td>\n",
       "      <td>-94.3</td>\n",
       "    </tr>\n",
       "    <tr>\n",
       "      <th>26041370</th>\n",
       "      <td>2015-06-05 12:08:10.238</td>\n",
       "      <td>1.52306</td>\n",
       "      <td>1.53265</td>\n",
       "      <td>-95.9</td>\n",
       "    </tr>\n",
       "  </tbody>\n",
       "</table>\n",
       "<p>100 rows × 4 columns</p>\n",
       "</div>"
      ],
      "text/plain": [
       "                            date      ask      bid  spreadPips\n",
       "25820415 2015-06-03 08:25:25.874  1.52630  1.53536       -90.6\n",
       "26041161 2015-06-05 12:07:03.798  1.52356  1.53262       -90.6\n",
       "26041196 2015-06-05 12:07:14.883  1.52283  1.53254       -97.1\n",
       "26041197 2015-06-05 12:07:14.883  1.52341  1.53254       -91.3\n",
       "26041198 2015-06-05 12:07:15.694  1.52341  1.53256       -91.5\n",
       "26041208 2015-06-05 12:07:18.576  1.52270  1.53254       -98.4\n",
       "26041209 2015-06-05 12:07:19.383  1.52270  1.53260       -99.0\n",
       "26041210 2015-06-05 12:07:19.383  1.52273  1.53260       -98.7\n",
       "26041211 2015-06-05 12:07:19.817  1.52273  1.53258       -98.5\n",
       "26041212 2015-06-05 12:07:19.817  1.52261  1.53258       -99.7\n",
       "26041213 2015-06-05 12:07:20.236  1.52261  1.53262      -100.1\n",
       "26041214 2015-06-05 12:07:20.236  1.52279  1.53262       -98.3\n",
       "26041215 2015-06-05 12:07:20.236  1.52262  1.53262      -100.0\n",
       "26041216 2015-06-05 12:07:20.647  1.52262  1.53258       -99.6\n",
       "26041217 2015-06-05 12:07:20.647  1.52261  1.53258       -99.7\n",
       "26041218 2015-06-05 12:07:21.056  1.52261  1.53255       -99.4\n",
       "26041219 2015-06-05 12:07:21.056  1.52249  1.53255      -100.6\n",
       "26041220 2015-06-05 12:07:21.056  1.52246  1.53255      -100.9\n",
       "26041221 2015-06-05 12:07:21.873  1.52246  1.53256      -101.0\n",
       "26041222 2015-06-05 12:07:22.277  1.52246  1.53254      -100.8\n",
       "26041223 2015-06-05 12:07:22.277  1.52245  1.53254      -100.9\n",
       "26041224 2015-06-05 12:07:22.277  1.52251  1.53254      -100.3\n",
       "26041225 2015-06-05 12:07:22.277  1.52252  1.53254      -100.2\n",
       "26041226 2015-06-05 12:07:23.884  1.52252  1.53255      -100.3\n",
       "26041227 2015-06-05 12:07:23.884  1.52262  1.53255       -99.3\n",
       "26041228 2015-06-05 12:07:24.290  1.52262  1.53257       -99.5\n",
       "26041229 2015-06-05 12:07:24.290  1.52260  1.53257       -99.7\n",
       "26041230 2015-06-05 12:07:24.698  1.52260  1.53259       -99.9\n",
       "26041231 2015-06-05 12:07:24.698  1.52263  1.53259       -99.6\n",
       "26041232 2015-06-05 12:07:25.107  1.52263  1.53261       -99.8\n",
       "...                          ...      ...      ...         ...\n",
       "26041284 2015-06-05 12:07:42.627  1.52270  1.53251       -98.1\n",
       "26041285 2015-06-05 12:07:42.627  1.52314  1.53251       -93.7\n",
       "26041297 2015-06-05 12:07:47.126  1.52356  1.53256       -90.0\n",
       "26041332 2015-06-05 12:07:57.254  1.52353  1.53265       -91.2\n",
       "26041333 2015-06-05 12:07:57.656  1.52353  1.53266       -91.3\n",
       "26041334 2015-06-05 12:07:57.656  1.52345  1.53266       -92.1\n",
       "26041335 2015-06-05 12:07:57.656  1.52357  1.53266       -90.9\n",
       "26041336 2015-06-05 12:07:57.656  1.52344  1.53266       -92.2\n",
       "26041337 2015-06-05 12:07:57.656  1.52339  1.53266       -92.7\n",
       "26041338 2015-06-05 12:07:59.680  1.52339  1.53268       -92.9\n",
       "26041339 2015-06-05 12:07:59.680  1.52352  1.53268       -91.6\n",
       "26041340 2015-06-05 12:07:59.680  1.52367  1.53268       -90.1\n",
       "26041341 2015-06-05 12:07:59.680  1.52348  1.53268       -92.0\n",
       "26041342 2015-06-05 12:07:59.680  1.52344  1.53268       -92.4\n",
       "26041349 2015-06-05 12:08:02.124  1.52360  1.53267       -90.7\n",
       "26041350 2015-06-05 12:08:02.124  1.52366  1.53267       -90.1\n",
       "26041351 2015-06-05 12:08:02.124  1.52364  1.53267       -90.3\n",
       "26041358 2015-06-05 12:08:05.778  1.52354  1.53266       -91.2\n",
       "26041359 2015-06-05 12:08:07.815  1.52354  1.53267       -91.3\n",
       "26041360 2015-06-05 12:08:07.815  1.52347  1.53267       -92.0\n",
       "26041361 2015-06-05 12:08:08.219  1.52347  1.53269       -92.2\n",
       "26041362 2015-06-05 12:08:08.219  1.52345  1.53269       -92.4\n",
       "26041363 2015-06-05 12:08:08.219  1.52347  1.53269       -92.2\n",
       "26041364 2015-06-05 12:08:08.219  1.52325  1.53269       -94.4\n",
       "26041365 2015-06-05 12:08:08.219  1.52319  1.53269       -95.0\n",
       "26041366 2015-06-05 12:08:09.834  1.52319  1.53266       -94.7\n",
       "26041367 2015-06-05 12:08:10.238  1.52319  1.53265       -94.6\n",
       "26041368 2015-06-05 12:08:10.238  1.52317  1.53265       -94.8\n",
       "26041369 2015-06-05 12:08:10.238  1.52322  1.53265       -94.3\n",
       "26041370 2015-06-05 12:08:10.238  1.52306  1.53265       -95.9\n",
       "\n",
       "[100 rows x 4 columns]"
      ]
     },
     "execution_count": 36,
     "metadata": {},
     "output_type": "execute_result"
    }
   ],
   "source": [
    "neg3.head(100)"
   ]
  },
  {
   "cell_type": "code",
   "execution_count": null,
   "metadata": {
    "collapsed": false
   },
   "outputs": [],
   "source": []
  },
  {
   "cell_type": "code",
   "execution_count": null,
   "metadata": {
    "collapsed": false
   },
   "outputs": [],
   "source": []
  },
  {
   "cell_type": "code",
   "execution_count": null,
   "metadata": {
    "collapsed": true
   },
   "outputs": [],
   "source": []
  }
 ],
 "metadata": {
  "kernelspec": {
   "display_name": "Python 2",
   "language": "python",
   "name": "python2"
  },
  "language_info": {
   "codemirror_mode": {
    "name": "ipython",
    "version": 2
   },
   "file_extension": ".py",
   "mimetype": "text/x-python",
   "name": "python",
   "nbconvert_exporter": "python",
   "pygments_lexer": "ipython2",
   "version": "2.7.10"
  }
 },
 "nbformat": 4,
 "nbformat_minor": 0
}
